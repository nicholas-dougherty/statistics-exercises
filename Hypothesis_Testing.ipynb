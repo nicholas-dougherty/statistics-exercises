{
 "cells": [
  {
   "cell_type": "markdown",
   "id": "c6f1fea1",
   "metadata": {},
   "source": [
    "# T-Test"
   ]
  },
  {
   "cell_type": "markdown",
   "id": "56d733b9",
   "metadata": {},
   "source": [
    "__Ace Realty__ wants to determine whether the average time it takes to sell homes is different for its two offices.    \n",
    "- A sample of 40 sales from office #1 revealed:\n",
    "  - a mean of 90 days,\n",
    "  - a standard deviation of 15 days.    \n",
    " ***\n",
    "- A sample of 50 sales from office #2 revealed:\n",
    "  - a mean of 100 days,\n",
    "  - a standard deviation of 20 days.  \n",
    "***\n",
    "Use a .05 level of significance."
   ]
  },
  {
   "cell_type": "code",
   "execution_count": 1,
   "id": "1d9a9518",
   "metadata": {},
   "outputs": [],
   "source": [
    "import matplotlib.pyplot as plt\n",
    "\n",
    "import numpy as np\n",
    "import pandas as pd\n",
    "\n",
    "from scipy import stats\n",
    "import pydataset\n"
   ]
  },
  {
   "cell_type": "markdown",
   "id": "dc18f3f7",
   "metadata": {},
   "source": [
    "𝐻0, the null hypothesis: Mean time for sells in Ace Realty's First Office = Mean time for sells in their Second Office\n",
    "\n",
    "𝐻𝑎, the alternative hypothesis: Mean time for sells in Ace Realty's First Office = Mean time for sells in their Second Office"
   ]
  },
  {
   "cell_type": "code",
   "execution_count": 26,
   "id": "144aa878",
   "metadata": {},
   "outputs": [
    {
     "name": "stdout",
     "output_type": "stream",
     "text": [
      "\n",
      "The one-tailed test demonstrates the p-value (0.0041) is lower than the alpha 0.05, \n",
      "errgo the Null Hypothesis (Mean time for sells in Ace Realty's First Office = Mean time for sells in their Second Office) is rejected.\n"
     ]
    }
   ],
   "source": [
    "# lets make some variables. \n",
    "\n",
    "null_hypothesis = 'Mean time for sells in Ace Realty\\'s First Office = Mean time for sells in their Second Office'\n",
    "\n",
    "confidence_level = 95\n",
    "significance_level = alpha = .05\n",
    "critical_value = critical_probability = 1 - (alpha / 2) # .975\n",
    "\n",
    "n1, n2 = 40, 50 # number of members(sales) in the sample set\n",
    "x̅_office_1, x̅_office_2 = 90, 100 # mean\n",
    "s1, s2 = 15, 20 # standard deviation\n",
    "\n",
    "# standard deviation is the square-root of variance. \n",
    "# Therefore to convert standard standard deviation to variance, square the standard deviation.\n",
    "variance1, variance2 = 15**2, 20**2\n",
    "# print(variance1, variance2)\n",
    "# the variances are not equal. \n",
    "# if I were using stats.ttest_ind, I would be setting the argument of equal_var to False.\n",
    "\n",
    "# the same also goes for stats.ttest_ind_from_stats, accorind to scipy docs. \n",
    "# two-sided is the default argument for the alternative hypothese, wherein the means are unequal. \n",
    "\n",
    "\n",
    "# so here the goal is to compare two observed means(independent samples), from this array-like\n",
    "# sample set. So, as a parametric test, I will run an independent t-test:scipy.stats.ttest_ind\n",
    "# we have a large enough set, in accordance with the Central Limit Theorem, to proceed\n",
    "# without scaling via the Gaussian Scalar method. \n",
    "\n",
    "\n",
    "t, p = stats.ttest_ind_from_stats(x̅_office_1, s1, n1, x̅_office_2, s2, n2, equal_var=False)\n",
    "\n",
    "one_tailed_p = p / 2\n",
    "# print(one_tailed_p)\n",
    "# print(f' Our p-value is less than alpha: {one_tailed_p < alpha}')\n",
    "print(f'''\n",
    "The one-tailed test demonstrates the p-value ({one_tailed_p:.02}) is lower than the alpha {alpha}, \n",
    "errgo the Null Hypothesis ({null_hypothesis}) is rejected.''')\n"
   ]
  },
  {
   "cell_type": "code",
   "execution_count": 60,
   "id": "8c81eca5",
   "metadata": {},
   "outputs": [
    {
     "data": {
      "text/plain": [
       "<matplotlib.legend.Legend at 0x7f89ffa450a0>"
      ]
     },
     "execution_count": 60,
     "metadata": {},
     "output_type": "execute_result"
    },
    {
     "data": {
      "image/png": "[encoded data removed]",
      "text/plain": [
       "<Figure size 432x288 with 1 Axes>"
      ]
     },
     "metadata": {
      "needs_background": "light"
     },
     "output_type": "display_data"
    }
   ],
   "source": [
    "# x = np.arange(0,100) # 0, 100 cut it off too soon. Irrelevant until around 40. \n",
    "x = np.arange(40,140)\n",
    "\n",
    "y1 = stats.norm(x̅_office_1, s1).pdf(x)\n",
    "y2 = stats.norm(x̅_office_2, s2).pdf(x)\n",
    "\n",
    "\n",
    "plt.plot(x, y1, label = 'Office 1')\n",
    "plt.plot(x, y2, label = 'Office 2')\n",
    "\n",
    "plt.legend()"
   ]
  },
  {
   "cell_type": "markdown",
   "id": "25c0b4d8",
   "metadata": {},
   "source": [
    " #### notes taken as comments while I was solving this, moved into markdown \n",
    " The p-value is the chance that we obtained the results we did\n",
    " (or would obtain more extreme results) due to chance if the null hypothesis is true.\n",
    " The tail refers to the end of the distribution of the test statistic for the particular\n",
    " analysis that you are conducting. For example, a t-test uses the t distribution, and an analysis\n",
    " of variance (ANOVA) uses the F distribution. The distribution of the test statistic can have one\n",
    " or two tails depending on its shape. The black-shaded areas of the distributions in the figure\n",
    " are the tails. Symmetrical distributions like the t and z distributions have two tails. \n",
    "\n",
    " Two tailed tests are appropriate to determine if there is any difference between the groups\n",
    " being compared. A two tailed test uses both the postive and negative tails of the distribution.\n",
    " however, here, if we are looking at sales relative to time, there shouldn't be negative values. \n",
    "\n",
    " \"When in doubt, it is almost always more appropriate to use a two-tailed test.\n",
    " A one-tailed test is only justified if you have a specific prediction about the direction\n",
    " of the difference (e.g., Group A scoring higher than Group B), and you are completely \n",
    " uninterested in the possibility that the opposite outcome could be true (e.g., Group A\n",
    " scoring lower than Group B).\"\n",
    "\n",
    " If the p-value is higher than your alpha, I fail to reject the Null Hypothesis.\n",
    " If the p-value is lower than the alpha, I reject the Null Hypothesis.\n",
    "\n",
    " comments galore: there are two main approaches for making the conclusion of a hypothesis test. \n",
    " the critical value approach compares the test statistic with the critical value of the significance level\n",
    "    the p value approach compares the p-value of the test statistics with the significance level. \n",
    " critical value (p*) = 1 - alpha/2 \n",
    "You can express the critical value in two ways: as a Z-score related to cumulative probability\n",
    " and as a critical t statistic, which is equal to the critical probability. useful when the standard deviation is unknown. \n",
    "\n",
    " as I get deeper into this, I am seeing the prospects of using t or z tests excessive and ridiculous. \n",
    " I still don't understand when to use the one_tail versus two_tail. But for now, I will just use the former. \n",
    " print(t)\n",
    " print(p)\n",
    " \n",
    " The H 0 null hypothesis is always framed as:\n",
    "There's no significant difference between continuous variables of 2 subgroups (two-tailed t-test) There's no significant difference between the continuous variaable of a subgroup and its population (one tailed t-test) There's no linear relationship between two continuous variables (correlation) There's no dependence between two categorical variables (chi-squared)"
   ]
  },
  {
   "cell_type": "markdown",
   "id": "c02e7d94",
   "metadata": {},
   "source": [
    "#### scipy.stats.ttest_ind_from_stats\n",
    "scipy.stats.ttest_ind_from_stats(mean1, std1, nobs1, mean2, std2, nobs2, equal_var=True, alternative='two-sided')[source]       \n",
    " \n",
    "T-test for means of two independent samples from descriptive statistics.       \n",
    "\n",
    "This is a test for the null hypothesis that two independent samples have identical average (expected) values."
   ]
  },
  {
   "cell_type": "code",
   "execution_count": null,
   "id": "8752b923",
   "metadata": {},
   "outputs": [],
   "source": []
  },
  {
   "cell_type": "markdown",
   "id": "1eb69d29",
   "metadata": {},
   "source": [
    "# MPG DATASET"
   ]
  },
  {
   "cell_type": "markdown",
   "id": "a5d07a8e",
   "metadata": {},
   "source": [
    "Load the __mpg dataset__ and use it to answer the following questions:\n",
    "\n",
    "- Is there a difference in fuel-efficiency in cars from 2008 vs 1999?    \n",
    "***\n",
    "- Are compact cars more fuel-efficient than the average car?\n",
    "***\n",
    "- Do manual cars get better gas mileage than automatic cars?"
   ]
  },
  {
   "cell_type": "code",
   "execution_count": 3,
   "id": "0d225ebe",
   "metadata": {},
   "outputs": [],
   "source": [
    "mpg = pydataset.data('mpg')\n"
   ]
  },
  {
   "cell_type": "markdown",
   "id": "07bf98b5",
   "metadata": {},
   "source": [
    "### _Is there a difference in fuel-efficiency in cars from 2008 vs 1999?_"
   ]
  },
  {
   "cell_type": "code",
   "execution_count": 4,
   "id": "6ea62659",
   "metadata": {},
   "outputs": [],
   "source": [
    "# harmonic mean. \n",
    "mpg['avg_fe'] = stats.hmean(mpg[['cty', 'hwy']], axis =1)\n",
    "mpg.head()\n",
    "# separate the independent groups:\n",
    " # mpg data set where the year is 2008, specifying the average fuel efficiency column \n",
    "fe_2008 = mpg[mpg.year == 2008].avg_fe\n",
    "\n",
    "# same, but with the 1999 year. \n",
    "fe_1999 = mpg[mpg.year == 1999].avg_fe"
   ]
  },
  {
   "cell_type": "code",
   "execution_count": 9,
   "id": "128fd959",
   "metadata": {},
   "outputs": [
    {
     "data": {
      "text/plain": [
       "(117, 117)"
      ]
     },
     "execution_count": 9,
     "metadata": {},
     "output_type": "execute_result"
    }
   ],
   "source": [
    "fe_2008.var(), fe_1999.var()\n",
    "fe_2008.count(), fe_1999.count()"
   ]
  },
  {
   "cell_type": "code",
   "execution_count": 11,
   "id": "8cec1d06",
   "metadata": {},
   "outputs": [
    {
     "data": {
      "text/plain": [
       "(-0.3011962975077886, 0.7635345888327115)"
      ]
     },
     "execution_count": 11,
     "metadata": {},
     "output_type": "execute_result"
    }
   ],
   "source": [
    "# stats Levene test - returns p value. small p-value means unequal variances\n",
    "stats.levene(fe_2008, fe_1999)\n",
    "\n",
    "t, p = stats.ttest_ind(fe_2008, fe_1999)\n",
    "t, p\n",
    "\n",
    "# p is significantly greater than alpha, so we have not rejected the null hypothesis. "
   ]
  },
  {
   "cell_type": "code",
   "execution_count": 12,
   "id": "c517098e",
   "metadata": {},
   "outputs": [
    {
     "data": {
      "text/plain": [
       "<matplotlib.legend.Legend at 0x7f85b47804c0>"
      ]
     },
     "execution_count": 12,
     "metadata": {},
     "output_type": "execute_result"
    },
    {
     "data": {
      "image/png": "[encoded data removed]",
      "text/plain": [
       "<Figure size 432x288 with 1 Axes>"
      ]
     },
     "metadata": {
      "needs_background": "light"
     },
     "output_type": "display_data"
    }
   ],
   "source": [
    "plt.hist([fe_1999, fe_2008], label=[\"1999 cars\", \"2008 cars\"])\n",
    "plt.legend(loc=\"upper right\")"
   ]
  },
  {
   "cell_type": "markdown",
   "id": "6e00bee4",
   "metadata": {},
   "source": [
    "### _Are compact cars more fuel-efficient than the average car?_"
   ]
  },
  {
   "cell_type": "markdown",
   "id": "ac956014",
   "metadata": {},
   "source": [
    "H0: There is no difference in fuel-efficiency between compact cars and the population average fuel-efficiency \n",
    "Ha: Compact cars are more fuel efficient than the average car \n",
    "for ha to be true t >0 and p/2 > 0.05\n"
   ]
  },
  {
   "cell_type": "code",
   "execution_count": 35,
   "id": "d5254c58",
   "metadata": {},
   "outputs": [
    {
     "name": "stdout",
     "output_type": "stream",
     "text": [
      "t= 6.817370168225931e-15\n",
      "p= 0.49999999999999734\n",
      "\n",
      "Since p (1.00000) > alpha (.05), we accept the null hypothesis.\n"
     ]
    }
   ],
   "source": [
    "fe_compact = mpg[mpg['class'] == 'compact'].avg_fe\n",
    "mu = fe_compact.mean()\n",
    "\n",
    "t, p = stats.ttest_1samp(fe_compact, mu)\n",
    "print('t=', t)\n",
    "print('p=', p/2)\n",
    "\n",
    "print(f'''\n",
    "Since p ({p:.5f}) > alpha (.05), we accept the null hypothesis.''')"
   ]
  },
  {
   "cell_type": "markdown",
   "id": "55453709",
   "metadata": {},
   "source": [
    "### _Do manual cars get better gas milage than automatic cars?_"
   ]
  },
  {
   "cell_type": "code",
   "execution_count": 19,
   "id": "389da20b",
   "metadata": {},
   "outputs": [],
   "source": [
    "fe_auto = mpg[mpg.trans.str.contains('auto')].avg_fe\n",
    "fe_manual = mpg[mpg.trans.str.contains('manual')].avg_fe"
   ]
  },
  {
   "cell_type": "code",
   "execution_count": 20,
   "id": "e4bf3724",
   "metadata": {},
   "outputs": [
    {
     "data": {
      "text/plain": [
       "(20.428279095002054, 25.665633639828275)"
      ]
     },
     "execution_count": 20,
     "metadata": {},
     "output_type": "execute_result"
    }
   ],
   "source": [
    "fe_auto.var(), fe_manual.var()\n"
   ]
  },
  {
   "cell_type": "code",
   "execution_count": 22,
   "id": "8945d94c",
   "metadata": {},
   "outputs": [
    {
     "data": {
      "text/plain": [
       "LeveneResult(statistic=0.013901207169738269, pvalue=0.9062462281015493)"
      ]
     },
     "execution_count": 22,
     "metadata": {},
     "output_type": "execute_result"
    }
   ],
   "source": [
    "stats.levene(fe_auto, fe_manual)\n",
    "# high P value, can't assert a difference in variance. \n",
    "\n",
    "#parameter review: \n",
    "# roughly normal (sample size, CLT), equal varainces via levene tests, independent sample"
   ]
  },
  {
   "cell_type": "code",
   "execution_count": 27,
   "id": "95a4f3f0",
   "metadata": {},
   "outputs": [
    {
     "name": "stdout",
     "output_type": "stream",
     "text": [
      "t= -4.652577547151351 p= 2.7552323050220026e-06 0.05\n"
     ]
    }
   ],
   "source": [
    "t, p = stats.ttest_ind(fe_auto, fe_manual)\n",
    "print('t=', t, 'p=', p/2, alpha)"
   ]
  },
  {
   "cell_type": "code",
   "execution_count": 28,
   "id": "e02ba14c",
   "metadata": {},
   "outputs": [
    {
     "name": "stdout",
     "output_type": "stream",
     "text": [
      "\n",
      "Since p (0.00001) < alpha (.05), we reject the null hypothesis that there\n",
      "is no difference in gas mileage between manual and automatic cars.\n",
      "\n"
     ]
    }
   ],
   "source": [
    "print(f'''\n",
    "Since p ({p:.5f}) < alpha (.05), we reject the null hypothesis that there\n",
    "is no difference in gas mileage between manual and automatic cars.\n",
    "''')"
   ]
  },
  {
   "cell_type": "code",
   "execution_count": null,
   "id": "aa5133ff",
   "metadata": {},
   "outputs": [],
   "source": []
  }
 ],
 "metadata": {
  "kernelspec": {
   "display_name": "Python 3 (ipykernel)",
   "language": "python",
   "name": "python3"
  },
  "language_info": {
   "codemirror_mode": {
    "name": "ipython",
    "version": 3
   },
   "file_extension": ".py",
   "mimetype": "text/x-python",
   "name": "python",
   "nbconvert_exporter": "python",
   "pygments_lexer": "ipython3",
   "version": "3.9.7"
  }
 },
 "nbformat": 4,
 "nbformat_minor": 5
}
