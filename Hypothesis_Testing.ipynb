{
 "cells": [
  {
   "cell_type": "markdown",
   "id": "97bd8fc9-2e86-4048-a53d-036e0b5930e0",
   "metadata": {},
   "source": [
    "# Overview "
   ]
  },
  {
   "cell_type": "markdown",
   "id": "675f0b14-b3bf-45a4-902f-8bbf43f1fe3e",
   "metadata": {},
   "source": [
    "For each of the following questions, formulate a null and alternative hypothesis (be as specific as you can be), then give an example of what a true positive, true negative, type I and type II errors would look like. Note that some of the questions are intentionally phrased in a vague way. It is your job to reword these as more precise questions that could be tested."
   ]
  },
  {
   "cell_type": "markdown",
   "id": "a0b6b163-f5a7-4c95-a366-6dd83eae8c1f",
   "metadata": {},
   "source": [
    "1.) Has the network latency gone up since we switched internet service providers?\n",
    "- $H_0$: the network latency is the same since the ISP switch.\n",
    "- $H_A$: Network latency has increased since our ISP switch. \n",
    "  - True Positive: We reject the Null Hypothesis, our latency has increased by 200 ms since switching ISP. \n",
    "  - True Negative: There is not a noticeable, statistically significant difference in latency. We fail to reject the Null Hypothesis. \n",
    "- False Positive(Type I Error): We reject the Null hypothesis, but perhaps our tests were conducted while using far less demanding applications than usual, or the data in the sample is biased. \n",
    "- False Negative(Type II Error): We fail to reject the Null Hypothesis, our data may have been recorded when far more demanding applications and streaming were at play. \n",
    "\n",
    "***\n",
    "2.) Is the website redesign any good?\n",
    "- $H_0$: Our redesign has not led to any more click traffic.\n",
    "- $H_A$: Our redesign has increased web traffic and gathered more clicks. \n",
    "    - True Positive: After rejecting the Null Hypothesis, we confirmed the redesign truly helped increase site traffic. \n",
    "    - True Negative: We failed to reject the Null Hypothesis, the redesign did not increase site traffic, and there's no indication that this is biased or based in errorneous data. \n",
    "- False Positive(Type I Error): We rejected the Null Hypothesis, but it turns out that only previous visitors have been visiting our website more, perhaps to laugh at how terrible the redesign actually is. \n",
    "- False Negative(Type II Error): We failed to reject the Null and concluded the redesign didn't help, but perhaps it did, as maybe our site traffic checker was malfunctioning or we were only sampling from competitors who gave terrible feedback. \n",
    "***\n",
    "3.) Is our television ad driving more sales?\n",
    "- $H_0$: Our Television Ad for the Cinco Brand Poop-Chute has not increased sales. \n",
    "- $H_A$: Our Television Ad for the Cinco Brand Poop-Chute has heavily decreased our sales. \n",
    "    - True Positive: We rejected the null, and the increased sales are speaking for themselves. \n",
    "    - True Negative: We failed to reject the null, and our plummiting sales speak for themselves. \n",
    "- False Positive(Type I Error): We rejected the null, but our customers are only buying our product ironically and then returning it. \n",
    "- False Negative(Type II Error): We failed to reject the null, but online it seems our product is a hit and that many orders are pending in our systems. "
   ]
  },
  {
   "cell_type": "markdown",
   "id": "c6f1fea1",
   "metadata": {},
   "source": [
    "# T-Test"
   ]
  },
  {
   "cell_type": "markdown",
   "id": "56d733b9",
   "metadata": {},
   "source": [
    "__Ace Realty__ wants to determine whether the average time it takes to sell homes is different for its two offices.    \n",
    "- A sample of 40 sales from office #1 revealed:\n",
    "  - a mean of 90 days,\n",
    "  - a standard deviation of 15 days.    \n",
    " ***\n",
    "- A sample of 50 sales from office #2 revealed:\n",
    "  - a mean of 100 days,\n",
    "  - a standard deviation of 20 days.  \n",
    "***\n",
    "Use a .05 level of significance."
   ]
  },
  {
   "cell_type": "code",
   "execution_count": 67,
   "id": "1d9a9518",
   "metadata": {},
   "outputs": [],
   "source": [
    "import matplotlib.pyplot as plt\n",
    "import seaborn as sns\n",
    "\n",
    "import numpy as np\n",
    "import pandas as pd\n",
    "\n",
    "from scipy import stats\n",
    "from pydataset import data\n",
    "\n",
    "import env"
   ]
  },
  {
   "cell_type": "markdown",
   "id": "dc18f3f7",
   "metadata": {},
   "source": [
    "𝐻0, the null hypothesis: Mean time for sells in Ace Realty's First Office = Mean time for sells in their Second Office\n",
    "\n",
    "𝐻𝑎, the alternative hypothesis: Mean time for sells in Ace Realty's First Office = Mean time for sells in their Second Office"
   ]
  },
  {
   "cell_type": "code",
   "execution_count": 2,
   "id": "144aa878",
   "metadata": {},
   "outputs": [
    {
     "name": "stdout",
     "output_type": "stream",
     "text": [
      "\n",
      "The one-tailed test demonstrates the p-value (0.0041) is lower than the alpha 0.05, \n",
      "errgo the Null Hypothesis (Mean time for sells in Ace Realty's First Office = Mean time for sells in their Second Office) is rejected.\n"
     ]
    }
   ],
   "source": [
    "# lets make some variables. \n",
    "\n",
    "null_hypothesis = 'Mean time for sells in Ace Realty\\'s First Office = Mean time for sells in their Second Office'\n",
    "\n",
    "confidence_level = 95\n",
    "significance_level = alpha = .05\n",
    "critical_value = critical_probability = 1 - (alpha / 2) # .975\n",
    "\n",
    "n1, n2 = 40, 50 # number of members(sales) in the sample set\n",
    "x̅_office_1, x̅_office_2 = 90, 100 # mean\n",
    "s1, s2 = 15, 20 # standard deviation\n",
    "\n",
    "# standard deviation is the square-root of variance. \n",
    "# Therefore to convert standard standard deviation to variance, square the standard deviation.\n",
    "variance1, variance2 = 15**2, 20**2\n",
    "# print(variance1, variance2)\n",
    "# the variances are not equal. \n",
    "# if I were using stats.ttest_ind, I would be setting the argument of equal_var to False.\n",
    "\n",
    "# the same also goes for stats.ttest_ind_from_stats, accorind to scipy docs. \n",
    "# two-sided is the default argument for the alternative hypothese, wherein the means are unequal. \n",
    "\n",
    "\n",
    "# so here the goal is to compare two observed means(independent samples), from this array-like\n",
    "# sample set. So, as a parametric test, I will run an independent t-test:scipy.stats.ttest_ind\n",
    "# we have a large enough set, in accordance with the Central Limit Theorem, to proceed\n",
    "# without scaling via the Gaussian Scalar method. \n",
    "\n",
    "\n",
    "t, p = stats.ttest_ind_from_stats(x̅_office_1, s1, n1, x̅_office_2, s2, n2, equal_var=False)\n",
    "\n",
    "one_tailed_p = p / 2\n",
    "# print(one_tailed_p)\n",
    "# print(f' Our p-value is less than alpha: {one_tailed_p < alpha}')\n",
    "print(f'''\n",
    "The one-tailed test demonstrates the p-value ({one_tailed_p:.02}) is lower than the alpha {alpha}, \n",
    "errgo the Null Hypothesis ({null_hypothesis}) is rejected.''')\n"
   ]
  },
  {
   "cell_type": "code",
   "execution_count": 3,
   "id": "8c81eca5",
   "metadata": {},
   "outputs": [
    {
     "data": {
      "text/plain": [
       "<matplotlib.legend.Legend at 0x7fc1afbcf730>"
      ]
     },
     "execution_count": 3,
     "metadata": {},
     "output_type": "execute_result"
    },
    {
     "data": {
      "image/png": "[encoded data removed]",
      "text/plain": [
       "<Figure size 432x288 with 1 Axes>"
      ]
     },
     "metadata": {
      "needs_background": "light"
     },
     "output_type": "display_data"
    }
   ],
   "source": [
    "# x = np.arange(0,100) # 0, 100 cut it off too soon. Irrelevant until around 40. \n",
    "x = np.arange(40,140)\n",
    "\n",
    "y1 = stats.norm(x̅_office_1, s1).pdf(x)\n",
    "y2 = stats.norm(x̅_office_2, s2).pdf(x)\n",
    "\n",
    "\n",
    "plt.plot(x, y1, label = 'Office 1')\n",
    "plt.plot(x, y2, label = 'Office 2')\n",
    "\n",
    "plt.legend()"
   ]
  },
  {
   "cell_type": "markdown",
   "id": "25c0b4d8",
   "metadata": {},
   "source": [
    " #### notes taken as comments while I was solving this, moved into markdown \n",
    " The p-value is the chance that we obtained the results we did\n",
    " (or would obtain more extreme results) due to chance if the null hypothesis is true.\n",
    " The tail refers to the end of the distribution of the test statistic for the particular\n",
    " analysis that you are conducting. For example, a t-test uses the t distribution, and an analysis\n",
    " of variance (ANOVA) uses the F distribution. The distribution of the test statistic can have one\n",
    " or two tails depending on its shape. The black-shaded areas of the distributions in the figure\n",
    " are the tails. Symmetrical distributions like the t and z distributions have two tails. \n",
    "\n",
    " Two tailed tests are appropriate to determine if there is any difference between the groups\n",
    " being compared. A two tailed test uses both the postive and negative tails of the distribution.\n",
    " however, here, if we are looking at sales relative to time, there shouldn't be negative values. \n",
    "\n",
    " \"When in doubt, it is almost always more appropriate to use a two-tailed test.\n",
    " A one-tailed test is only justified if you have a specific prediction about the direction\n",
    " of the difference (e.g., Group A scoring higher than Group B), and you are completely \n",
    " uninterested in the possibility that the opposite outcome could be true (e.g., Group A\n",
    " scoring lower than Group B).\"\n",
    "\n",
    " If the p-value is higher than your alpha, I fail to reject the Null Hypothesis.\n",
    " If the p-value is lower than the alpha, I reject the Null Hypothesis.\n",
    "\n",
    " comments galore: there are two main approaches for making the conclusion of a hypothesis test. \n",
    " the critical value approach compares the test statistic with the critical value of the significance level\n",
    "    the p value approach compares the p-value of the test statistics with the significance level. \n",
    " critical value (p*) = 1 - alpha/2 \n",
    "You can express the critical value in two ways: as a Z-score related to cumulative probability\n",
    " and as a critical t statistic, which is equal to the critical probability. useful when the standard deviation is unknown. \n",
    "\n",
    " as I get deeper into this, I am seeing the prospects of using t or z tests excessive and ridiculous. \n",
    " I still don't understand when to use the one_tail versus two_tail. But for now, I will just use the former. \n",
    " print(t)\n",
    " print(p)\n",
    " \n",
    " The H 0 null hypothesis is always framed as:\n",
    "There's no significant difference between continuous variables of 2 subgroups (two-tailed t-test) There's no significant difference between the continuous variaable of a subgroup and its population (one tailed t-test) There's no linear relationship between two continuous variables (correlation) There's no dependence between two categorical variables (chi-squared)"
   ]
  },
  {
   "cell_type": "markdown",
   "id": "c02e7d94",
   "metadata": {},
   "source": [
    "#### scipy.stats.ttest_ind_from_stats\n",
    "scipy.stats.ttest_ind_from_stats(mean1, std1, nobs1, mean2, std2, nobs2, equal_var=True, alternative='two-sided')[source]       \n",
    " \n",
    "T-test for means of two independent samples from descriptive statistics.       \n",
    "\n",
    "This is a test for the null hypothesis that two independent samples have identical average (expected) values."
   ]
  },
  {
   "cell_type": "code",
   "execution_count": null,
   "id": "8752b923",
   "metadata": {},
   "outputs": [],
   "source": []
  },
  {
   "cell_type": "markdown",
   "id": "1eb69d29",
   "metadata": {},
   "source": [
    "# MPG DATASET"
   ]
  },
  {
   "cell_type": "markdown",
   "id": "a5d07a8e",
   "metadata": {},
   "source": [
    "Load the __mpg dataset__ and use it to answer the following questions:\n",
    "\n",
    "- Is there a difference in fuel-efficiency in cars from 2008 vs 1999?    \n",
    "***\n",
    "- Are compact cars more fuel-efficient than the average car?\n",
    "***\n",
    "- Do manual cars get better gas mileage than automatic cars?"
   ]
  },
  {
   "cell_type": "code",
   "execution_count": 5,
   "id": "0d225ebe",
   "metadata": {},
   "outputs": [],
   "source": [
    "mpg = pydataset.data('mpg')\n"
   ]
  },
  {
   "cell_type": "markdown",
   "id": "07bf98b5",
   "metadata": {},
   "source": [
    "### _Is there a difference in fuel-efficiency in cars from 2008 vs 1999?_"
   ]
  },
  {
   "cell_type": "code",
   "execution_count": 6,
   "id": "6ea62659",
   "metadata": {},
   "outputs": [],
   "source": [
    "# harmonic mean. \n",
    "mpg['avg_fe'] = stats.hmean(mpg[['cty', 'hwy']], axis =1)\n",
    "mpg.head()\n",
    "# separate the independent groups:\n",
    " # mpg data set where the year is 2008, specifying the average fuel efficiency column \n",
    "fe_2008 = mpg[mpg.year == 2008].avg_fe\n",
    "\n",
    "# same, but with the 1999 year. \n",
    "fe_1999 = mpg[mpg.year == 1999].avg_fe"
   ]
  },
  {
   "cell_type": "code",
   "execution_count": 7,
   "id": "128fd959",
   "metadata": {},
   "outputs": [
    {
     "data": {
      "text/plain": [
       "(117, 117)"
      ]
     },
     "execution_count": 7,
     "metadata": {},
     "output_type": "execute_result"
    }
   ],
   "source": [
    "fe_2008.var(), fe_1999.var()\n",
    "fe_2008.count(), fe_1999.count()"
   ]
  },
  {
   "cell_type": "code",
   "execution_count": 8,
   "id": "8cec1d06",
   "metadata": {},
   "outputs": [
    {
     "data": {
      "text/plain": [
       "(-0.3011962975077886, 0.7635345888327115)"
      ]
     },
     "execution_count": 8,
     "metadata": {},
     "output_type": "execute_result"
    }
   ],
   "source": [
    "# stats Levene test - returns p value. small p-value means unequal variances\n",
    "stats.levene(fe_2008, fe_1999)\n",
    "\n",
    "t, p = stats.ttest_ind(fe_2008, fe_1999)\n",
    "t, p\n",
    "\n",
    "# p is significantly greater than alpha, so we have not rejected the null hypothesis. "
   ]
  },
  {
   "cell_type": "code",
   "execution_count": 9,
   "id": "c517098e",
   "metadata": {},
   "outputs": [
    {
     "data": {
      "text/plain": [
       "<matplotlib.legend.Legend at 0x7fc1afb8e970>"
      ]
     },
     "execution_count": 9,
     "metadata": {},
     "output_type": "execute_result"
    },
    {
     "data": {
      "image/png": "[encoded data removed]",
      "text/plain": [
       "<Figure size 432x288 with 1 Axes>"
      ]
     },
     "metadata": {
      "needs_background": "light"
     },
     "output_type": "display_data"
    }
   ],
   "source": [
    "plt.hist([fe_1999, fe_2008], label=[\"1999 cars\", \"2008 cars\"])\n",
    "plt.legend(loc=\"upper right\")"
   ]
  },
  {
   "cell_type": "markdown",
   "id": "6e00bee4",
   "metadata": {},
   "source": [
    "### _Are compact cars more fuel-efficient than the average car?_"
   ]
  },
  {
   "cell_type": "markdown",
   "id": "ac956014",
   "metadata": {},
   "source": [
    "H0: There is no difference in fuel-efficiency between compact cars and the population average fuel-efficiency \n",
    "Ha: Compact cars are more fuel efficient than the average car \n",
    "for ha to be true t >0 and p/2 > 0.05\n"
   ]
  },
  {
   "cell_type": "code",
   "execution_count": 10,
   "id": "d5254c58",
   "metadata": {},
   "outputs": [
    {
     "name": "stdout",
     "output_type": "stream",
     "text": [
      "t= 7.512360093161354\n",
      "p= 1.5617666348807727e-09\n",
      "\n",
      "Since p/2 (0.000000000780883) < alpha (.05), we reject the null hypothesis.\n"
     ]
    }
   ],
   "source": [
    "fe_compact = mpg[mpg['class'] == 'compact'].avg_fe\n",
    "mu = mpg.avg_fe.mean()\n",
    "\n",
    "t, p = stats.ttest_1samp(fe_compact, mu)\n",
    "print('t=', t)\n",
    "print('p=', p)\n",
    "\n",
    "print(f'''\n",
    "Since p/2 ({p/2:.15f}) < alpha (.05), we reject the null hypothesis.''')"
   ]
  },
  {
   "cell_type": "markdown",
   "id": "55453709",
   "metadata": {},
   "source": [
    "### _Do manual cars get better gas milage than automatic cars?_\n",
    "\n",
    "- $H_0$: There is no difference in mileage between automatic and manual cars. \n",
    "- $H_a$: There is a significant difference in mileage between automatic and manual cars. "
   ]
  },
  {
   "cell_type": "code",
   "execution_count": 11,
   "id": "389da20b",
   "metadata": {},
   "outputs": [],
   "source": [
    "fe_auto = mpg[mpg.trans.str.contains('auto')].avg_fe\n",
    "fe_manual = mpg[mpg.trans.str.contains('manual')].avg_fe"
   ]
  },
  {
   "cell_type": "code",
   "execution_count": 12,
   "id": "e4bf3724",
   "metadata": {},
   "outputs": [
    {
     "data": {
      "text/plain": [
       "(20.428279095002054, 25.665633639828275)"
      ]
     },
     "execution_count": 12,
     "metadata": {},
     "output_type": "execute_result"
    }
   ],
   "source": [
    "fe_auto.var(), fe_manual.var()\n"
   ]
  },
  {
   "cell_type": "code",
   "execution_count": 13,
   "id": "8945d94c",
   "metadata": {},
   "outputs": [
    {
     "data": {
      "text/plain": [
       "LeveneResult(statistic=0.013901207169738269, pvalue=0.9062462281015493)"
      ]
     },
     "execution_count": 13,
     "metadata": {},
     "output_type": "execute_result"
    }
   ],
   "source": [
    "stats.levene(fe_auto, fe_manual)\n",
    "# high P value, can't assert a difference in variance. \n",
    "\n",
    "#parameter review: \n",
    "# roughly normal (sample size, CLT), equal varainces via levene tests, independent sample"
   ]
  },
  {
   "cell_type": "code",
   "execution_count": 14,
   "id": "95a4f3f0",
   "metadata": {},
   "outputs": [
    {
     "name": "stdout",
     "output_type": "stream",
     "text": [
      "t= -4.652577547151351 p= 2.7552323050220026e-06 0.05\n"
     ]
    }
   ],
   "source": [
    "t, p = stats.ttest_ind(fe_auto, fe_manual)\n",
    "print('t=', t, 'p=', p/2, alpha)"
   ]
  },
  {
   "cell_type": "code",
   "execution_count": 15,
   "id": "e02ba14c",
   "metadata": {},
   "outputs": [
    {
     "name": "stdout",
     "output_type": "stream",
     "text": [
      "\n",
      "Since p (0.00001) < alpha (.05), we reject the null hypothesis that there\n",
      "is no difference in gas mileage between manual and automatic cars.\n",
      "\n"
     ]
    }
   ],
   "source": [
    "print(f'''\n",
    "Since p ({p:.5f}) < alpha (.05), we reject the null hypothesis that there\n",
    "is no difference in gas mileage between manual and automatic cars.\n",
    "''')"
   ]
  },
  {
   "cell_type": "markdown",
   "id": "c0bbe91f",
   "metadata": {},
   "source": [
    "# Correlation Exercises"
   ]
  },
  {
   "cell_type": "markdown",
   "id": "d9bbcf75",
   "metadata": {},
   "source": [
    "1.) Use the telco_churn data.     \n",
    "- Does tenure correlate with monthly charges?\n",
    "- Total charges? \n",
    "- What happens if you control for phone and internet service?"
   ]
  },
  {
   "cell_type": "code",
   "execution_count": 29,
   "id": "56fd6d11",
   "metadata": {},
   "outputs": [
    {
     "data": {
      "text/html": [
       "<div>\n",
       "<style scoped>\n",
       "    .dataframe tbody tr th:only-of-type {\n",
       "        vertical-align: middle;\n",
       "    }\n",
       "\n",
       "    .dataframe tbody tr th {\n",
       "        vertical-align: top;\n",
       "    }\n",
       "\n",
       "    .dataframe thead th {\n",
       "        text-align: right;\n",
       "    }\n",
       "</style>\n",
       "<table border=\"1\" class=\"dataframe\">\n",
       "  <thead>\n",
       "    <tr style=\"text-align: right;\">\n",
       "      <th></th>\n",
       "      <th>customer_id</th>\n",
       "      <th>gender</th>\n",
       "      <th>is_senior_citizen</th>\n",
       "      <th>partner</th>\n",
       "      <th>dependents</th>\n",
       "      <th>phone_service</th>\n",
       "      <th>phone_service_name</th>\n",
       "      <th>internet_service</th>\n",
       "      <th>internet_service_name</th>\n",
       "      <th>contract_type</th>\n",
       "      <th>...</th>\n",
       "      <th>is_female</th>\n",
       "      <th>has_churned</th>\n",
       "      <th>has_phone</th>\n",
       "      <th>has_internet</th>\n",
       "      <th>has_phone_and_internet</th>\n",
       "      <th>partner_dependents</th>\n",
       "      <th>partner_dependents.1</th>\n",
       "      <th>service_type</th>\n",
       "      <th>tenure_months</th>\n",
       "      <th>tenure_years</th>\n",
       "    </tr>\n",
       "  </thead>\n",
       "  <tbody>\n",
       "    <tr>\n",
       "      <th>0</th>\n",
       "      <td>1371-DWPAZ</td>\n",
       "      <td>Female</td>\n",
       "      <td>0</td>\n",
       "      <td>Yes</td>\n",
       "      <td>Yes</td>\n",
       "      <td>0</td>\n",
       "      <td>No Phone Service</td>\n",
       "      <td>1</td>\n",
       "      <td>DSL</td>\n",
       "      <td>2</td>\n",
       "      <td>...</td>\n",
       "      <td>True</td>\n",
       "      <td>False</td>\n",
       "      <td>False</td>\n",
       "      <td>True</td>\n",
       "      <td>False</td>\n",
       "      <td>3</td>\n",
       "      <td>3</td>\n",
       "      <td>Internet</td>\n",
       "      <td>0</td>\n",
       "      <td>&lt; 1 year</td>\n",
       "    </tr>\n",
       "    <tr>\n",
       "      <th>1</th>\n",
       "      <td>2520-SGTTA</td>\n",
       "      <td>Female</td>\n",
       "      <td>0</td>\n",
       "      <td>Yes</td>\n",
       "      <td>Yes</td>\n",
       "      <td>1</td>\n",
       "      <td>One Line</td>\n",
       "      <td>0</td>\n",
       "      <td>No Internet Service</td>\n",
       "      <td>2</td>\n",
       "      <td>...</td>\n",
       "      <td>True</td>\n",
       "      <td>False</td>\n",
       "      <td>True</td>\n",
       "      <td>False</td>\n",
       "      <td>False</td>\n",
       "      <td>3</td>\n",
       "      <td>3</td>\n",
       "      <td>Phone</td>\n",
       "      <td>0</td>\n",
       "      <td>&lt; 1 year</td>\n",
       "    </tr>\n",
       "    <tr>\n",
       "      <th>2</th>\n",
       "      <td>2775-SEFEE</td>\n",
       "      <td>Male</td>\n",
       "      <td>0</td>\n",
       "      <td>No</td>\n",
       "      <td>Yes</td>\n",
       "      <td>2</td>\n",
       "      <td>Two or More Lines</td>\n",
       "      <td>1</td>\n",
       "      <td>DSL</td>\n",
       "      <td>2</td>\n",
       "      <td>...</td>\n",
       "      <td>False</td>\n",
       "      <td>False</td>\n",
       "      <td>True</td>\n",
       "      <td>True</td>\n",
       "      <td>True</td>\n",
       "      <td>2</td>\n",
       "      <td>2</td>\n",
       "      <td>Phone and Internet</td>\n",
       "      <td>0</td>\n",
       "      <td>&lt; 1 year</td>\n",
       "    </tr>\n",
       "    <tr>\n",
       "      <th>3</th>\n",
       "      <td>2923-ARZLG</td>\n",
       "      <td>Male</td>\n",
       "      <td>0</td>\n",
       "      <td>Yes</td>\n",
       "      <td>Yes</td>\n",
       "      <td>1</td>\n",
       "      <td>One Line</td>\n",
       "      <td>0</td>\n",
       "      <td>No Internet Service</td>\n",
       "      <td>1</td>\n",
       "      <td>...</td>\n",
       "      <td>False</td>\n",
       "      <td>False</td>\n",
       "      <td>True</td>\n",
       "      <td>False</td>\n",
       "      <td>False</td>\n",
       "      <td>3</td>\n",
       "      <td>3</td>\n",
       "      <td>Phone</td>\n",
       "      <td>0</td>\n",
       "      <td>&lt; 1 year</td>\n",
       "    </tr>\n",
       "    <tr>\n",
       "      <th>4</th>\n",
       "      <td>3115-CZMZD</td>\n",
       "      <td>Male</td>\n",
       "      <td>0</td>\n",
       "      <td>No</td>\n",
       "      <td>Yes</td>\n",
       "      <td>1</td>\n",
       "      <td>One Line</td>\n",
       "      <td>0</td>\n",
       "      <td>No Internet Service</td>\n",
       "      <td>2</td>\n",
       "      <td>...</td>\n",
       "      <td>False</td>\n",
       "      <td>False</td>\n",
       "      <td>True</td>\n",
       "      <td>False</td>\n",
       "      <td>False</td>\n",
       "      <td>2</td>\n",
       "      <td>2</td>\n",
       "      <td>Phone</td>\n",
       "      <td>0</td>\n",
       "      <td>&lt; 1 year</td>\n",
       "    </tr>\n",
       "  </tbody>\n",
       "</table>\n",
       "<p>5 rows × 28 columns</p>\n",
       "</div>"
      ],
      "text/plain": [
       "  customer_id  gender  is_senior_citizen partner dependents  phone_service  \\\n",
       "0  1371-DWPAZ  Female                  0     Yes        Yes              0   \n",
       "1  2520-SGTTA  Female                  0     Yes        Yes              1   \n",
       "2  2775-SEFEE    Male                  0      No        Yes              2   \n",
       "3  2923-ARZLG    Male                  0     Yes        Yes              1   \n",
       "4  3115-CZMZD    Male                  0      No        Yes              1   \n",
       "\n",
       "  phone_service_name  internet_service internet_service_name  contract_type  \\\n",
       "0   No Phone Service                 1                   DSL              2   \n",
       "1           One Line                 0   No Internet Service              2   \n",
       "2  Two or More Lines                 1                   DSL              2   \n",
       "3           One Line                 0   No Internet Service              1   \n",
       "4           One Line                 0   No Internet Service              2   \n",
       "\n",
       "   ... is_female has_churned  has_phone  has_internet  has_phone_and_internet  \\\n",
       "0  ...      True       False      False          True                   False   \n",
       "1  ...      True       False       True         False                   False   \n",
       "2  ...     False       False       True          True                    True   \n",
       "3  ...     False       False       True         False                   False   \n",
       "4  ...     False       False       True         False                   False   \n",
       "\n",
       "  partner_dependents partner_dependents.1        service_type  tenure_months  \\\n",
       "0                  3                    3            Internet              0   \n",
       "1                  3                    3               Phone              0   \n",
       "2                  2                    2  Phone and Internet              0   \n",
       "3                  3                    3               Phone              0   \n",
       "4                  2                    2               Phone              0   \n",
       "\n",
       "   tenure_years  \n",
       "0      < 1 year  \n",
       "1      < 1 year  \n",
       "2      < 1 year  \n",
       "3      < 1 year  \n",
       "4      < 1 year  \n",
       "\n",
       "[5 rows x 28 columns]"
      ]
     },
     "execution_count": 29,
     "metadata": {},
     "output_type": "execute_result"
    }
   ],
   "source": [
    "telco_churn = pd.read_csv('/Users/nicholasdougherty/codeup-data-science/statistics-exercises/CustDetails.csv')\n",
    "churn_data = df = pd.DataFrame(telco_churn)\n",
    "churn_data.head()\n",
    "# Ready to explore and clean. "
   ]
  },
  {
   "cell_type": "code",
   "execution_count": 87,
   "id": "edf392ca",
   "metadata": {},
   "outputs": [
    {
     "name": "stdout",
     "output_type": "stream",
     "text": [
      "customer_id                0\n",
      "gender                     0\n",
      "is_senior_citizen          0\n",
      "partner                    0\n",
      "dependents                 0\n",
      "phone_service              0\n",
      "phone_service_name         0\n",
      "internet_service           0\n",
      "internet_service_name      0\n",
      "contract_type              0\n",
      "contract_name              0\n",
      "payment_type               0\n",
      "monthly_charges            0\n",
      "total_charges             11\n",
      "tenure                     0\n",
      "total_charges2             0\n",
      "total_charges_match        0\n",
      "churn                      0\n",
      "is_female                  0\n",
      "has_churned                0\n",
      "has_phone                  0\n",
      "has_internet               0\n",
      "has_phone_and_internet     0\n",
      "partner_dependents         0\n",
      "partner_dependents.1       0\n",
      "service_type               0\n",
      "tenure_months              0\n",
      "tenure_years               0\n",
      "dtype: int64\n",
      "<class 'pandas.core.frame.DataFrame'>\n",
      "RangeIndex: 7049 entries, 0 to 7048\n",
      "Data columns (total 28 columns):\n",
      " #   Column                  Non-Null Count  Dtype  \n",
      "---  ------                  --------------  -----  \n",
      " 0   customer_id             7049 non-null   object \n",
      " 1   gender                  7049 non-null   object \n",
      " 2   is_senior_citizen       7049 non-null   int64  \n",
      " 3   partner                 7049 non-null   object \n",
      " 4   dependents              7049 non-null   object \n",
      " 5   phone_service           7049 non-null   int64  \n",
      " 6   phone_service_name      7049 non-null   object \n",
      " 7   internet_service        7049 non-null   int64  \n",
      " 8   internet_service_name   7049 non-null   object \n",
      " 9   contract_type           7049 non-null   int64  \n",
      " 10  contract_name           7049 non-null   object \n",
      " 11  payment_type            7049 non-null   object \n",
      " 12  monthly_charges         7049 non-null   float64\n",
      " 13  total_charges           7038 non-null   float64\n",
      " 14  tenure                  7049 non-null   float64\n",
      " 15  total_charges2          7049 non-null   object \n",
      " 16  total_charges_match     7049 non-null   object \n",
      " 17  churn                   7049 non-null   object \n",
      " 18  is_female               7049 non-null   bool   \n",
      " 19  has_churned             7049 non-null   bool   \n",
      " 20  has_phone               7049 non-null   bool   \n",
      " 21  has_internet            7049 non-null   bool   \n",
      " 22  has_phone_and_internet  7049 non-null   bool   \n",
      " 23  partner_dependents      7049 non-null   int64  \n",
      " 24  partner_dependents.1    7049 non-null   int64  \n",
      " 25  service_type            7049 non-null   object \n",
      " 26  tenure_months           7049 non-null   int64  \n",
      " 27  tenure_years            7049 non-null   object \n",
      "dtypes: bool(5), float64(3), int64(7), object(13)\n",
      "memory usage: 1.3+ MB\n",
      "None\n",
      "       is_senior_citizen  phone_service  internet_service  contract_type  \\\n",
      "count        7049.000000    7049.000000       7049.000000    7049.000000   \n",
      "mean            0.162009       1.324585          1.222585       0.690878   \n",
      "std             0.368485       0.642709          0.779068       0.833757   \n",
      "min             0.000000       0.000000          0.000000       0.000000   \n",
      "25%             0.000000       1.000000          1.000000       0.000000   \n",
      "50%             0.000000       1.000000          1.000000       0.000000   \n",
      "75%             0.000000       2.000000          2.000000       1.000000   \n",
      "max             1.000000       2.000000          2.000000       2.000000   \n",
      "\n",
      "       monthly_charges  total_charges       tenure  partner_dependents  \\\n",
      "count      7049.000000    7038.000000  7049.000000         7049.000000   \n",
      "mean         64.747014    2283.043883    32.379866            1.083416   \n",
      "std          30.099460    2266.521984    24.595524            1.226883   \n",
      "min          18.250000      18.800000     0.000000            0.000000   \n",
      "25%          35.450000     401.587500     8.733456            0.000000   \n",
      "50%          70.350000    1397.100000    28.683425            1.000000   \n",
      "75%          89.850000    3793.775000    55.229399            2.000000   \n",
      "max         118.750000    8684.800000    79.341772            3.000000   \n",
      "\n",
      "       partner_dependents.1  tenure_months  \n",
      "count           7049.000000    7049.000000  \n",
      "mean               1.083416      32.374805  \n",
      "std                1.226883      24.596637  \n",
      "min                0.000000       0.000000  \n",
      "25%                0.000000       9.000000  \n",
      "50%                1.000000      29.000000  \n",
      "75%                2.000000      55.000000  \n",
      "max                3.000000      79.000000  \n",
      "  customer_id  gender  is_senior_citizen partner dependents  phone_service  \\\n",
      "0  1371-DWPAZ  Female                  0     Yes        Yes              0   \n",
      "1  2520-SGTTA  Female                  0     Yes        Yes              1   \n",
      "2  2775-SEFEE    Male                  0      No        Yes              2   \n",
      "3  2923-ARZLG    Male                  0     Yes        Yes              1   \n",
      "4  3115-CZMZD    Male                  0      No        Yes              1   \n",
      "\n",
      "  phone_service_name  internet_service internet_service_name  contract_type  \\\n",
      "0   No Phone Service                 1                   DSL              2   \n",
      "1           One Line                 0   No Internet Service              2   \n",
      "2  Two or More Lines                 1                   DSL              2   \n",
      "3           One Line                 0   No Internet Service              1   \n",
      "4           One Line                 0   No Internet Service              2   \n",
      "\n",
      "   ... is_female has_churned  has_phone  has_internet  has_phone_and_internet  \\\n",
      "0  ...      True       False      False          True                   False   \n",
      "1  ...      True       False       True         False                   False   \n",
      "2  ...     False       False       True          True                    True   \n",
      "3  ...     False       False       True         False                   False   \n",
      "4  ...     False       False       True         False                   False   \n",
      "\n",
      "  partner_dependents partner_dependents.1        service_type  tenure_months  \\\n",
      "0                  3                    3            Internet              0   \n",
      "1                  3                    3               Phone              0   \n",
      "2                  2                    2  Phone and Internet              0   \n",
      "3                  3                    3               Phone              0   \n",
      "4                  2                    2               Phone              0   \n",
      "\n",
      "   tenure_years  \n",
      "0      < 1 year  \n",
      "1      < 1 year  \n",
      "2      < 1 year  \n",
      "3      < 1 year  \n",
      "4      < 1 year  \n",
      "\n",
      "[5 rows x 28 columns]\n",
      "End\n"
     ]
    }
   ],
   "source": [
    "def describe_data(df):\n",
    "    print(df.isna().sum())\n",
    "    print(df.info())\n",
    "    print(df.describe())\n",
    "    print(df.head())\n",
    "    return print('End')\n",
    "\n",
    "describe_data(churn_data)\n",
    "# since I have 11 na's in total charges, I'll drop those. "
   ]
  },
  {
   "cell_type": "code",
   "execution_count": 18,
   "id": "2a705473",
   "metadata": {},
   "outputs": [],
   "source": [
    "churn_data.dropna(axis=0, how='any', subset=['total_charges'])\n",
    "#nchurn_data.isna().sum()\n",
    "# doesn't appear to work. The sum for total charges is 11. moving on for now.\n",
    "\n",
    "def missing_values_percentage(df): \n",
    "    rows, columns = churn_data.shape\n",
    "    cell_count = rows * columns\n",
    "    number_of_nulls = churn_data.isnull().sum().sum()\n",
    "    percentage_of_missing = (number_of_nulls / cell_count) * 100\n",
    "    print(f'Percentage of missing values: {percentage_of_missing}%')\n",
    "\n",
    "# the impact of the NaN's as far as I can guess, is negligible at best. \n",
    "\n",
    "# I was wrong, even though the percentage is low, it still interfered with my test.\n",
    "# so I will change it without dropping it, and instead via replacement with 0. \n",
    "\n",
    "# df['total_charges'] = (df['total_charges'] + '0').astype(float)\n",
    "# ufunc 'add' did not contain a loop with signature matching types \n",
    "# (dtype('<U32'), dtype('<U32')) -> dtype('<U32')\n",
    "# failing to change the type, still. Sigh, I'll just set it to greater than zero in the function. "
   ]
  },
  {
   "cell_type": "markdown",
   "id": "8e1faa7e",
   "metadata": {},
   "source": [
    "1a.) Does tenure correlate with monthly charges?\n",
    "\n",
    "- $H_0$: Tenure does not have a linear relationship with monthly charges. \n",
    "- $H_a$: Tenure has a linear relationship with monthly charges. "
   ]
  },
  {
   "cell_type": "code",
   "execution_count": 19,
   "id": "889f5d03",
   "metadata": {},
   "outputs": [
    {
     "name": "stdout",
     "output_type": "stream",
     "text": [
      "r = 0.2472032380467264\n",
      "p = 1.2381721068052338e-98\n",
      "p is less than our alpha so we can reject the null hypothesis.\n"
     ]
    },
    {
     "data": {
      "image/png": "[encoded data removed]",
      "text/plain": [
       "<Figure size 432x288 with 1 Axes>"
      ]
     },
     "metadata": {
      "needs_background": "light"
     },
     "output_type": "display_data"
    }
   ],
   "source": [
    "# column names #12 monthly_charges(float64), #14 tenure(float64), #26 tenure_months(int64)\n",
    "churn_data.plot.scatter(x='tenure', y='monthly_charges')\n",
    "y = churn_data.monthly_charges\n",
    "x = churn_data.tenure\n",
    "\n",
    "r, p = stats.pearsonr(x, y)\n",
    "print('r =', r)\n",
    "print('p =', p)\n",
    "\n",
    "p < .05\n",
    "\n",
    "print('p is less than our alpha so we can reject the null hypothesis.')"
   ]
  },
  {
   "cell_type": "markdown",
   "id": "dd020d5a",
   "metadata": {},
   "source": [
    "1b.) Does tenure correlate with total charges?\n",
    "- $H_0$: Tenure has no correlation with total charges.  \n",
    "- $H_a$: Tenure correlates with total charges."
   ]
  },
  {
   "cell_type": "code",
   "execution_count": 20,
   "id": "729e463b",
   "metadata": {},
   "outputs": [
    {
     "name": "stdout",
     "output_type": "stream",
     "text": [
      "r = 0.8258274352556665\n",
      "p = 0.0\n",
      "p is less than our alpha so we can reject the null hypothesis.\n"
     ]
    }
   ],
   "source": [
    "r, p = stats.pearsonr(df[df.total_charges > 0].tenure, df[df.total_charges > 0].total_charges)\n",
    "print(f'r =', r)\n",
    "print('p =', p)\n",
    "      \n",
    "p < .05\n",
    "\n",
    "print('p is less than our alpha so we can reject the null hypothesis.')"
   ]
  },
  {
   "cell_type": "markdown",
   "id": "8dd2d572",
   "metadata": {},
   "source": [
    "1c.) What happens if you control for phone and internet service?"
   ]
  },
  {
   "cell_type": "markdown",
   "id": "efb4ccdb-efa1-48fe-a39b-a18851a510cb",
   "metadata": {},
   "source": [
    "- $H_0$: Controlling for phone and internet service has no impact on monthly charges and tenure. \n",
    "- $H_a$: Controlling for phone and internet service has an impact on monthly charges and tenure. "
   ]
  },
  {
   "cell_type": "code",
   "execution_count": 21,
   "id": "3fceb905",
   "metadata": {},
   "outputs": [
    {
     "name": "stdout",
     "output_type": "stream",
     "text": [
      "Uses Phone and Internet\n",
      "\n",
      "Pearson Correlation is calculated at 0.44355674344469 with a p value of 0.00000000000000\n",
      " p is less than our alpha and we can reject the null hypothesis\n",
      "\n",
      "----------------------------------\n",
      "\n",
      "Does Not Use Phone and Internet\n",
      "\n",
      "Pearson Correlation is calculated at 0.23651525976100 with a p value of 0.00000000000000\n",
      " p is less than our alpha and we can reject the null hypothesis\n"
     ]
    },
    {
     "data": {
      "image/png": "[encoded data removed]",
      "text/plain": [
       "<Figure size 490.375x360 with 1 Axes>"
      ]
     },
     "metadata": {
      "needs_background": "light"
     },
     "output_type": "display_data"
    }
   ],
   "source": [
    "sns.relplot(x='tenure', y='monthly_charges', hue='has_phone_and_internet', data=df)\n",
    "#sns.relplot(x='tenure', y='monthly_charges', hue='service_type', data=df)\n",
    "#sns.relplot(x='tenure', y='monthly_charges', hue='internet_service_name', data=df)\n",
    "#sns.relplot(x='tenure', y='total_charges', hue='has_phone_and_internet', data=df)\n",
    "#sns.relplot(x='tenure', y='total_charges', hue='service_type', data=df)\n",
    "#sns.relplot(x='tenure', y='total_charges', hue='internet_service_name', data=df)\n",
    "\n",
    "phone_and_internet = df[df.has_phone_and_internet == True]\n",
    "phone_and_internet\n",
    "no_phone_and_internet = df[df.has_phone_and_internet == False]\n",
    "no_phone_and_internet \n",
    "r, p = stats.pearsonr(phone_and_internet.tenure, phone_and_internet.monthly_charges)\n",
    "\n",
    "print('Uses Phone and Internet')\n",
    "print('')\n",
    "\n",
    "print(f'Pearson Correlation is calculated at {r:.14f} with a p value of {p:.14f}')\n",
    "if p < 0.05:\n",
    "    print(f' p is less than our alpha and we can reject the null hypothesis')\n",
    "    \n",
    "print('')\n",
    "print('----------------------------------')\n",
    "print('')\n",
    "\n",
    "r2, p2 = stats.pearsonr(no_phone_and_internet.tenure, no_phone_and_internet.monthly_charges)\n",
    "\n",
    "print('Does Not Use Phone and Internet')\n",
    "print('')\n",
    "print(f'Pearson Correlation is calculated at {r2:.14f} with a p value of {p2:.14f}')\n",
    "if p2 < 0.05:\n",
    "    print(f' p is less than our alpha and we can reject the null hypothesis')\n",
    "    \n",
    "# \n",
    "# Fun fact, before I kept trying df[df.has_phone_and_internet == 'True']\n",
    "# essentially evaluating based on a string that didn't exist. so no rows were returning. \n",
    "# The same was happening for the two following attempts. \n",
    "#I NEED to get into the habit of checking variables right after creating them. \n"
   ]
  },
  {
   "cell_type": "code",
   "execution_count": 115,
   "id": "fc5d599a",
   "metadata": {},
   "outputs": [],
   "source": [
    "# PREVIOUS ATTEMPTS TO BE IGNORED. \n",
    "# phone = df[df.phone_service == 1]\n",
    "# r, p = stats.pearsonr(phone.tenure, phone.monthly_charges)\n",
    "# print('Has Phone Service')\n",
    "# print('   r =', r)\n",
    "# print('   p =', p)\n",
    "# #      same error, so it's not because it was a boolean. Time to get experimental. \n",
    "# \n",
    "# # sets x's for those with phone service. \n",
    "# x_phone_t = df['tenure'][df['has_phone'] == True]\n",
    "# x_phone_tc = df['total_charges'][df['has_phone'] == True]\n",
    "# \n",
    "# # set y for phone service. \n",
    "# y_phone_mc = df['monthly_charges'][df['has_phone'] == True]\n",
    "# \n",
    "# # now for those who don't have phone service. \n",
    "# # x's\n",
    "# x_nophone_t = df['tenure'][df['has_phone'] == 'False']\n",
    "# x_nophone_tc = df['total_charges'][df['has_phone'] == True]\n",
    "# \n",
    "# #y\n",
    "# y_nophone_mc = df['monthly_charges'][df['has_phone'] == True]"
   ]
  },
  {
   "cell_type": "markdown",
   "id": "9271fdb7",
   "metadata": {},
   "source": [
    "### 2.) Use the employees database.    \n",
    "- Is there a relationship between how long an employee has been with the company and their salary?\n",
    "- Is there a relationship between how long an employee has been with the company and the number of titles they have had?"
   ]
  },
  {
   "cell_type": "code",
   "execution_count": 51,
   "id": "6a9d53da",
   "metadata": {},
   "outputs": [],
   "source": [
    "from env import get_db_url\n",
    "url = get_db_url('employees')\n",
    "# pd.read_sql(\"Select * FROM employees\", url)\n",
    "# connection established. "
   ]
  },
  {
   "cell_type": "code",
   "execution_count": 55,
   "id": "64e5d5c1-5113-44df-9b2f-e6b0d752330b",
   "metadata": {},
   "outputs": [],
   "source": [
    "def correlation_exploration(df, x_string, y_string):\n",
    "    '''\n",
    "    This nifty function takes in a df, a string for x variable,\n",
    "    and a string for y variable and displays their correlation.\n",
    "    '''\n",
    "    r, p = stats.pearsonr(df[x_string], df[y_string])\n",
    "    df.plot.scatter(x_string, y_string)\n",
    "    plt.title(f\"{x_string}'s Relationship with {y_string}\")\n",
    "    print(f'The p-value is: {p}. There is {round(p,3)}% chance that we see these results by chance.')\n",
    "    print(f'r = {round(r, 2)}')\n",
    "    plt.show()"
   ]
  },
  {
   "cell_type": "code",
   "execution_count": 8,
   "id": "7c0bf084",
   "metadata": {},
   "outputs": [],
   "source": [
    "# query = 'SELECT * FROM employees'\n",
    "# query_2 = 'SELECT * FROM salaries'\n",
    "# query_3 = 'SELECT * FROM titles'\n",
    "# \n",
    "# employees = pd.read_sql(query, url)\n",
    "# salaries = pd.read_sql(query_2, url)\n",
    "# titles = pd.read_sql(query_3, url)\n",
    "# I am going to combine elements from some of these. "
   ]
  },
  {
   "cell_type": "code",
   "execution_count": 49,
   "id": "e677edaf",
   "metadata": {},
   "outputs": [],
   "source": [
    "# employees.head()\n",
    "# salaries.head()\n",
    "# titles.head()"
   ]
  },
  {
   "cell_type": "code",
   "execution_count": 61,
   "id": "c8969be0-70cb-4edd-86e2-01d723299828",
   "metadata": {},
   "outputs": [],
   "source": [
    "query = '''\n",
    "SELECT\n",
    "    DATEDIFF((SELECT MAX(hire_date) FROM employees), e.hire_date) AS tenure,\n",
    "    s.salary AS salary\n",
    "FROM employees e\n",
    "JOIN salaries s USING (emp_no)\n",
    "WHERE s.to_date > NOW()\n",
    "'''\n",
    "\n",
    "employees_with_salaries = pd.read_sql(query, url)\n",
    "\n",
    "# sql = '''\n",
    "# SELECT emp_no, COUNT(title) AS n_titles\n",
    "#   FROM titles\n",
    "#   WHERE emp_no IN (SELECT emp_no\n",
    "#                      FROM salaries\n",
    "#                      WHERE to_date = '9999-01-01')\n",
    "#   GROUP BY emp_no;\n",
    "# '''\n",
    "# titles = pd.read_sql(sql, url)\n",
    "query_t = '''\n",
    "SELECT\n",
    "    e.emp_no,\n",
    "    DATEDIFF((SELECT MAX(hire_date) FROM employees), e.hire_date) AS tenure,\n",
    "    n_titles\n",
    "FROM employees e\n",
    "JOIN (\n",
    "    SELECT emp_no, COUNT(*) as n_titles\n",
    "    FROM employees e\n",
    "    JOIN titles t USING (emp_no)\n",
    "    GROUP BY emp_no\n",
    ") emp_title_count USING (emp_no)\n",
    "'''\n",
    "\n",
    "titles = pd.read_sql(query_t, url)"
   ]
  },
  {
   "cell_type": "markdown",
   "id": "0e73ff9c",
   "metadata": {},
   "source": [
    "2a.) Is there a relationship between how long an employee has been with the company and their salary?"
   ]
  },
  {
   "cell_type": "markdown",
   "id": "7a9b9198-98fc-4378-844e-d62650b05076",
   "metadata": {},
   "source": [
    "- $H_0$: There is no linear relationship between employee tenure and their salary. \n",
    "- $H_a$: There is a linear relationship between employee tenure and their salary. \n"
   ]
  },
  {
   "cell_type": "code",
   "execution_count": 59,
   "id": "d46b4fda-20d6-48a9-919f-4ce8e5b4755e",
   "metadata": {},
   "outputs": [
    {
     "name": "stdout",
     "output_type": "stream",
     "text": [
      "The p-value is: 0.0. There is 0.0% chance that we see these results by chance.\n",
      "r = 0.31\n"
     ]
    },
    {
     "data": {
      "image/png": "[encoded data removed]",
      "text/plain": [
       "<Figure size 432x288 with 1 Axes>"
      ]
     },
     "metadata": {
      "needs_background": "light"
     },
     "output_type": "display_data"
    }
   ],
   "source": [
    "# stats.pearsonr(employees_with_salaries.tenure, employees_with_salaries.salary)\n",
    "correlation_exploration(employees_with_salaries, 'tenure', 'salary')"
   ]
  },
  {
   "cell_type": "markdown",
   "id": "d945a909",
   "metadata": {},
   "source": [
    "2b.) Is there a relationship between how long an employee has been with the company and the number of titles they have had?\n",
    "\n",
    "- $H_0$: There is no relationship between tenure and number of titles an employee has held. \n",
    "- $H_a$: There is a relationship between tenure and number of titles an employee has held. "
   ]
  },
  {
   "cell_type": "code",
   "execution_count": 62,
   "id": "b1fab2ea",
   "metadata": {},
   "outputs": [
    {
     "name": "stdout",
     "output_type": "stream",
     "text": [
      "The p-value is: 0.0. There is 0.0% chance that we see these results by chance.\n",
      "r = 0.27\n"
     ]
    },
    {
     "data": {
      "image/png": "[encoded data removed]",
      "text/plain": [
       "<Figure size 432x288 with 1 Axes>"
      ]
     },
     "metadata": {
      "needs_background": "light"
     },
     "output_type": "display_data"
    }
   ],
   "source": [
    "correlation_exploration(titles, 'tenure', 'n_titles')"
   ]
  },
  {
   "cell_type": "markdown",
   "id": "8b461ee2",
   "metadata": {},
   "source": [
    "### 3.) Use the sleepstudy data. \n",
    "- Is there a relationship between days and reaction time?"
   ]
  },
  {
   "cell_type": "code",
   "execution_count": 32,
   "id": "3fb355b0",
   "metadata": {},
   "outputs": [
    {
     "name": "stdout",
     "output_type": "stream",
     "text": [
      "Reaction    0\n",
      "Days        0\n",
      "Subject     0\n",
      "dtype: int64\n",
      "<class 'pandas.core.frame.DataFrame'>\n",
      "Int64Index: 180 entries, 1 to 180\n",
      "Data columns (total 3 columns):\n",
      " #   Column    Non-Null Count  Dtype  \n",
      "---  ------    --------------  -----  \n",
      " 0   Reaction  180 non-null    float64\n",
      " 1   Days      180 non-null    int64  \n",
      " 2   Subject   180 non-null    int64  \n",
      "dtypes: float64(1), int64(2)\n",
      "memory usage: 5.6 KB\n",
      "None\n",
      "         Reaction        Days     Subject\n",
      "count  180.000000  180.000000  180.000000\n",
      "mean   298.507892    4.500000  341.277778\n",
      "std     56.328757    2.880293   20.320905\n",
      "min    194.332200    0.000000  308.000000\n",
      "25%    255.375825    2.000000  331.000000\n",
      "50%    288.650800    4.500000  336.000000\n",
      "75%    336.752075    7.000000  352.000000\n",
      "max    466.353500    9.000000  372.000000\n",
      "   Reaction  Days  Subject\n",
      "1  249.5600     0      308\n",
      "2  258.7047     1      308\n",
      "3  250.8006     2      308\n",
      "4  321.4398     3      308\n",
      "5  356.8519     4      308\n",
      "End\n"
     ]
    }
   ],
   "source": [
    "import pydataset\n",
    "\n",
    "df = pydataset.data('sleepstudy')\n",
    "describe_data(df)"
   ]
  },
  {
   "cell_type": "markdown",
   "id": "50244e3b-798e-4a66-8e9c-a93e0d2056b3",
   "metadata": {},
   "source": [
    "- $H_0$: Number of days has no statistical bearing on reaction time. \n",
    "- $H_a$: Number of days has a positive effect on reaction time. "
   ]
  },
  {
   "cell_type": "code",
   "execution_count": 26,
   "id": "57dfc210",
   "metadata": {},
   "outputs": [
    {
     "name": "stdout",
     "output_type": "stream",
     "text": [
      "Pearson Correlation is calculated at 0.535 with a p value of 0.000\n",
      " p is less than our alpha and we can reject the null hypothesis\n"
     ]
    }
   ],
   "source": [
    "r, p = stats.pearsonr(df['Days'], df['Reaction'])\n",
    "print(f'Pearson Correlation is calculated at {r:.3f} with a p value of {p:.3f}')\n",
    "if p < 0.05:\n",
    "    print(f' p is less than our alpha and we can reject the null hypothesis')"
   ]
  },
  {
   "cell_type": "markdown",
   "id": "785a68f2-73af-4801-976c-2262e40d5933",
   "metadata": {},
   "source": [
    "# Chi Square Exercises"
   ]
  },
  {
   "cell_type": "markdown",
   "id": "385f07fd-cc03-4540-b6be-adb22f003eb5",
   "metadata": {},
   "source": [
    "1. Use the following contingency table to help answer the question of whether using a macbook and being a codeup student are independent of each other.\n"
   ]
  },
  {
   "cell_type": "code",
   "execution_count": 22,
   "id": "0a605c35-c848-4f76-97ee-536d597c0d26",
   "metadata": {},
   "outputs": [
    {
     "data": {
      "text/plain": [
       "100"
      ]
     },
     "execution_count": 22,
     "metadata": {},
     "output_type": "execute_result"
    }
   ],
   "source": [
    "ct = pd.DataFrame({'Codeup Student': [49, 1], 'Not Codeup Student': [20, 30]})\n",
    "ct = ct.rename(index={0: 'Uses a Macbook', 1: 'Doesn\\'t Use a Macbook'})\n",
    "ct.values.sum()"
   ]
  },
  {
   "cell_type": "markdown",
   "id": "5a14c9f4-caea-436f-8738-c4666aa1b9a3",
   "metadata": {},
   "source": [
    "Form hypothesis:\n",
    "\n",
    "- $H_0$: There is no association between using a Macbook and being a Codeup Student (these are independent)\n",
    "- $H_a$: There is a signficant association between using a Macbook and being a Codeup Student (dependent)"
   ]
  },
  {
   "cell_type": "code",
   "execution_count": 8,
   "id": "1a0fd53c-227e-4c09-bc47-0e118d60efed",
   "metadata": {},
   "outputs": [],
   "source": [
    "alpha = 0.01"
   ]
  },
  {
   "cell_type": "code",
   "execution_count": 12,
   "id": "d66a5987-bbd4-4001-ad27-efd565c31e40",
   "metadata": {},
   "outputs": [
    {
     "name": "stdout",
     "output_type": "stream",
     "text": [
      "Observed\n",
      "\n",
      "[[49 20]\n",
      " [ 1 30]]\n",
      "---\n",
      "Expected\n",
      "\n",
      "[[34 34]\n",
      " [15 15]]\n",
      "---\n",
      "\n",
      "chi^2 = 36.6526\n",
      "p     = 0.0000\n",
      "We reject the null\n"
     ]
    }
   ],
   "source": [
    "chi2, p, degf, expected = stats.chi2_contingency(ct)\n",
    "\n",
    "print('Observed\\n')\n",
    "print(ct.values)\n",
    "print('---\\nExpected\\n')\n",
    "print(expected.astype(int))\n",
    "print('---\\n')\n",
    "print(f'chi^2 = {chi2:.4f}')\n",
    "print(f'p     = {p:.4f}')\n",
    "\n",
    "if p < alpha:\n",
    "    print('We reject the null')\n",
    "else:\n",
    "    print(\"we fail to reject the null\")"
   ]
  },
  {
   "cell_type": "markdown",
   "id": "a67bbb14-e53d-47fd-907d-8f76ec2c245e",
   "metadata": {},
   "source": [
    "##### Alternate method to making the table. \n",
    "index = ['macbook', 'not_macbook']\n",
    "columns = ['codeup', 'not_codeup']\n",
    "\n",
    "observed = pd.DataFrame([[49, 20], [1, 30]], index=index, columns=columns)\n",
    "\n",
    " set n\n",
    "n = observed.values.sum()\n",
    "n"
   ]
  },
  {
   "cell_type": "markdown",
   "id": "d2e0898c-852d-46f4-a4fe-713a00a8f182",
   "metadata": {},
   "source": [
    "2. Choose another 2 categorical variables from the mpg dataset and perform a chi2 contingency table test with them.       \n",
    "      Be sure to state your null and alternative hypotheses."
   ]
  },
  {
   "cell_type": "code",
   "execution_count": 34,
   "id": "7e85e9eb-26b2-427b-96cd-ed5ab24a727d",
   "metadata": {},
   "outputs": [
    {
     "name": "stdout",
     "output_type": "stream",
     "text": [
      "manufacturer    0\n",
      "model           0\n",
      "displ           0\n",
      "year            0\n",
      "cyl             0\n",
      "trans           0\n",
      "drv             0\n",
      "cty             0\n",
      "hwy             0\n",
      "fl              0\n",
      "class           0\n",
      "dtype: int64\n",
      "<class 'pandas.core.frame.DataFrame'>\n",
      "Int64Index: 234 entries, 1 to 234\n",
      "Data columns (total 11 columns):\n",
      " #   Column        Non-Null Count  Dtype  \n",
      "---  ------        --------------  -----  \n",
      " 0   manufacturer  234 non-null    object \n",
      " 1   model         234 non-null    object \n",
      " 2   displ         234 non-null    float64\n",
      " 3   year          234 non-null    int64  \n",
      " 4   cyl           234 non-null    int64  \n",
      " 5   trans         234 non-null    object \n",
      " 6   drv           234 non-null    object \n",
      " 7   cty           234 non-null    int64  \n",
      " 8   hwy           234 non-null    int64  \n",
      " 9   fl            234 non-null    object \n",
      " 10  class         234 non-null    object \n",
      "dtypes: float64(1), int64(4), object(6)\n",
      "memory usage: 21.9+ KB\n",
      "None\n",
      "            displ         year         cyl         cty         hwy\n",
      "count  234.000000   234.000000  234.000000  234.000000  234.000000\n",
      "mean     3.471795  2003.500000    5.888889   16.858974   23.440171\n",
      "std      1.291959     4.509646    1.611534    4.255946    5.954643\n",
      "min      1.600000  1999.000000    4.000000    9.000000   12.000000\n",
      "25%      2.400000  1999.000000    4.000000   14.000000   18.000000\n",
      "50%      3.300000  2003.500000    6.000000   17.000000   24.000000\n",
      "75%      4.600000  2008.000000    8.000000   19.000000   27.000000\n",
      "max      7.000000  2008.000000    8.000000   35.000000   44.000000\n",
      "  manufacturer model  displ  year  cyl       trans drv  cty  hwy fl    class\n",
      "1         audi    a4    1.8  1999    4    auto(l5)   f   18   29  p  compact\n",
      "2         audi    a4    1.8  1999    4  manual(m5)   f   21   29  p  compact\n",
      "3         audi    a4    2.0  2008    4  manual(m6)   f   20   31  p  compact\n",
      "4         audi    a4    2.0  2008    4    auto(av)   f   21   30  p  compact\n",
      "5         audi    a4    2.8  1999    6    auto(l5)   f   16   26  p  compact\n",
      "End\n"
     ]
    }
   ],
   "source": [
    "cars = data('mpg')\n",
    "describe_data(cars)"
   ]
  },
  {
   "cell_type": "code",
   "execution_count": 35,
   "id": "54bbd24b-a23c-4dbc-b1ef-b61b3c70fb5a",
   "metadata": {},
   "outputs": [
    {
     "data": {
      "text/plain": [
       "manufacturer    15\n",
       "model           38\n",
       "displ           35\n",
       "year             2\n",
       "cyl              4\n",
       "trans           10\n",
       "drv              3\n",
       "cty             21\n",
       "hwy             27\n",
       "fl               5\n",
       "class            7\n",
       "dtype: int64"
      ]
     },
     "execution_count": 35,
     "metadata": {},
     "output_type": "execute_result"
    }
   ],
   "source": [
    "cars.nunique()"
   ]
  },
  {
   "cell_type": "code",
   "execution_count": 40,
   "id": "3ead7b64-6f9a-46a3-a0a6-1ad7c6536c28",
   "metadata": {},
   "outputs": [
    {
     "name": "stdout",
     "output_type": "stream",
     "text": [
      "['compact' 'midsize' 'suv' '2seater' 'minivan' 'pickup' 'subcompact']\n",
      "['p' 'r' 'e' 'd' 'c']\n",
      "['f' '4' 'r']\n",
      "[4 6 8 5]\n"
     ]
    }
   ],
   "source": [
    "print(cars['class'].unique())\n",
    "print(cars['fl'].unique()) # not sure what fl is supposed to represent. \n",
    "print(cars['drv'].unique()) # front-wheel, four-wheel, rear-wheel drive\n",
    "print(cars['cyl'].unique())\n",
    "# any of these would work well for this test, I'm going to play with drv and cyl\n"
   ]
  },
  {
   "cell_type": "code",
   "execution_count": 41,
   "id": "cbb6c877-8c83-4b9f-ab60-f450cfb2acc4",
   "metadata": {},
   "outputs": [
    {
     "data": {
      "text/html": [
       "<div>\n",
       "<style scoped>\n",
       "    .dataframe tbody tr th:only-of-type {\n",
       "        vertical-align: middle;\n",
       "    }\n",
       "\n",
       "    .dataframe tbody tr th {\n",
       "        vertical-align: top;\n",
       "    }\n",
       "\n",
       "    .dataframe thead th {\n",
       "        text-align: right;\n",
       "    }\n",
       "</style>\n",
       "<table border=\"1\" class=\"dataframe\">\n",
       "  <thead>\n",
       "    <tr style=\"text-align: right;\">\n",
       "      <th>cyl</th>\n",
       "      <th>4</th>\n",
       "      <th>5</th>\n",
       "      <th>6</th>\n",
       "      <th>8</th>\n",
       "    </tr>\n",
       "    <tr>\n",
       "      <th>drv</th>\n",
       "      <th></th>\n",
       "      <th></th>\n",
       "      <th></th>\n",
       "      <th></th>\n",
       "    </tr>\n",
       "  </thead>\n",
       "  <tbody>\n",
       "    <tr>\n",
       "      <th>4</th>\n",
       "      <td>23</td>\n",
       "      <td>0</td>\n",
       "      <td>32</td>\n",
       "      <td>48</td>\n",
       "    </tr>\n",
       "    <tr>\n",
       "      <th>f</th>\n",
       "      <td>58</td>\n",
       "      <td>4</td>\n",
       "      <td>43</td>\n",
       "      <td>1</td>\n",
       "    </tr>\n",
       "    <tr>\n",
       "      <th>r</th>\n",
       "      <td>0</td>\n",
       "      <td>0</td>\n",
       "      <td>4</td>\n",
       "      <td>21</td>\n",
       "    </tr>\n",
       "  </tbody>\n",
       "</table>\n",
       "</div>"
      ],
      "text/plain": [
       "cyl   4  5   6   8\n",
       "drv               \n",
       "4    23  0  32  48\n",
       "f    58  4  43   1\n",
       "r     0  0   4  21"
      ]
     },
     "execution_count": 41,
     "metadata": {},
     "output_type": "execute_result"
    }
   ],
   "source": [
    "observed = pd.crosstab(cars.drv, cars.cyl)\n",
    "observed"
   ]
  },
  {
   "cell_type": "markdown",
   "id": "0a0fcfcf-cf8d-4070-845d-5688a2e8390e",
   "metadata": {},
   "source": [
    "Form hypothesis:\n",
    "\n",
    "- $H_0$: A Car's cylinder is independent of its drive-type.\n",
    "- $H_a$: A Car's cylinder depends on its drive-type. "
   ]
  },
  {
   "cell_type": "code",
   "execution_count": 42,
   "id": "5dd326e8-9bc8-4f25-a4dd-3047bb15567e",
   "metadata": {},
   "outputs": [
    {
     "name": "stdout",
     "output_type": "stream",
     "text": [
      "Observed\n",
      "\n",
      "[[23  0 32 48]\n",
      " [58  4 43  1]\n",
      " [ 0  0  4 21]]\n",
      "---\n",
      "Expected\n",
      "\n",
      "[[35.7  1.8 34.8 30.8]\n",
      " [36.7  1.8 35.8 31.7]\n",
      " [ 8.7  0.4  8.4  7.5]]\n",
      "---\n",
      "\n",
      "chi^2 = 98.1355\n",
      "p     = 0.0000\n",
      "We reject the null\n"
     ]
    }
   ],
   "source": [
    "alpha = .01\n",
    "chi2, p, degf, expected = stats.chi2_contingency(observed)\n",
    "\n",
    "expected = expected.round(1)\n",
    "\n",
    "print('Observed\\n')\n",
    "print(observed.values)\n",
    "print('---\\nExpected\\n')\n",
    "print(expected)\n",
    "print('---\\n')\n",
    "print(f'chi^2 = {chi2:.4f}')\n",
    "print(f'p     = {p:.4f}')\n",
    "\n",
    "if p < alpha:\n",
    "    print('We reject the null')\n",
    "else:\n",
    "    print(\"we fail to reject the null\")"
   ]
  },
  {
   "cell_type": "code",
   "execution_count": 48,
   "id": "4ba9806d-414e-4468-9db9-3f0da7df1427",
   "metadata": {},
   "outputs": [
    {
     "name": "stdout",
     "output_type": "stream",
     "text": [
      "check to make sure p isn't erroneous\n",
      " P equals 6.143348809350951e-19\n",
      "All clear\n"
     ]
    }
   ],
   "source": [
    "print(\"check to make sure p isn't erroneous\") \n",
    "print(f' P equals {p}')\n",
    "print('All clear')"
   ]
  },
  {
   "cell_type": "markdown",
   "id": "cc97da65-daf2-4c39-9a46-a328e0a52e63",
   "metadata": {},
   "source": [
    "3. Use the data from the employees database to answer these questions:"
   ]
  },
  {
   "cell_type": "code",
   "execution_count": 69,
   "id": "9178cd9f-6ca0-450f-a82f-9082f508aa35",
   "metadata": {},
   "outputs": [],
   "source": [
    "def chi2_test(data_for_category1, data_for_category2, alpha=.05):\n",
    "\n",
    "    '''\n",
    "    Given two subgroups from a dataset, conducts a chi-squared test for independence and outputs \n",
    "    the relevant information to the console. \n",
    "    Utilizes the method provided in the Codeup curriculum for conducting chi-squared test using\n",
    "    scipy and pandas. \n",
    "    '''\n",
    "    \n",
    "    # create dataframe of observed values\n",
    "    observed = pd.crosstab(data_for_category1, data_for_category2)\n",
    "    \n",
    "    # conduct test using scipy.stats.chi2_contingency() test\n",
    "    chi2, p, degf, expected = stats.chi2_contingency(observed)\n",
    "    \n",
    "    # round the expected values\n",
    "    expected = expected.round(1)\n",
    "    \n",
    "    # output\n",
    "    print('Observed\\n')\n",
    "    print(observed.values)\n",
    "    print('---\\nExpected\\n')\n",
    "    print(expected)\n",
    "    print('---\\n')\n",
    "    print(f'chi^2 = {chi2:.4f}')\n",
    "    print(f'p     = {p:.4f}')\n",
    "    \n",
    "    # evaluate the hypothesis against the established alpha value\n",
    "    if p < alpha:\n",
    "        print('\\nReject H0')\n",
    "    else: \n",
    "        print('\\nFail to Reject H0')"
   ]
  },
  {
   "cell_type": "markdown",
   "id": "2e249fcf-e840-4214-9b45-00381985c53a",
   "metadata": {},
   "source": [
    "3a) Is an employee's gender independent of whether an employee works in sales or marketing? (only look at current employees)"
   ]
  },
  {
   "cell_type": "code",
   "execution_count": 79,
   "id": "65ba61b5-d7e9-45a4-b3f3-ec6d24eb5668",
   "metadata": {},
   "outputs": [
    {
     "name": "stdout",
     "output_type": "stream",
     "text": [
      "emp_no       0\n",
      "gender       0\n",
      "dept_name    0\n",
      "dtype: int64\n",
      "<class 'pandas.core.frame.DataFrame'>\n",
      "RangeIndex: 58252 entries, 0 to 58251\n",
      "Data columns (total 3 columns):\n",
      " #   Column     Non-Null Count  Dtype \n",
      "---  ------     --------------  ----- \n",
      " 0   emp_no     58252 non-null  int64 \n",
      " 1   gender     58252 non-null  object\n",
      " 2   dept_name  58252 non-null  object\n",
      "dtypes: int64(1), object(2)\n",
      "memory usage: 1.3+ MB\n",
      "None\n",
      "              emp_no\n",
      "count   58252.000000\n",
      "mean   254083.029939\n",
      "std    161991.425374\n",
      "min     10002.000000\n",
      "25%     85019.250000\n",
      "50%    250776.500000\n",
      "75%    425365.250000\n",
      "max    499992.000000\n",
      "   emp_no gender  dept_name\n",
      "0   24976      M  Marketing\n",
      "1   24965      M  Marketing\n",
      "2   24957      M  Marketing\n",
      "3   24951      M  Marketing\n",
      "4   24901      F  Marketing\n",
      "End\n"
     ]
    }
   ],
   "source": [
    "sql = '''\n",
    "SELECT e.emp_no, e.gender, d.dept_name\n",
    "  FROM employees e \n",
    "    JOIN dept_emp de USING(emp_no)\n",
    "    JOIN departments d USING(dept_no)\n",
    "  WHERE emp_no IN (\n",
    "                   SELECT emp_no\n",
    "                     FROM dept_emp\n",
    "                     WHERE to_date = '9999-01-01'\n",
    "                  )\n",
    "                AND (d.dept_name = 'Sales'\n",
    "                OR d.dept_name = 'Marketing'\n",
    "                );\n",
    "'''\n",
    "current_emp_by_dept = pd.read_sql(sql, url)\n",
    "describe_data(current_emp_by_dept)"
   ]
  },
  {
   "cell_type": "markdown",
   "id": "f0c90315-819a-4aa9-85fb-ab0999795832",
   "metadata": {},
   "source": [
    "- $H_0$: An employees gender is independent from whether or not they work in sales or marketing. \n",
    "- $H_a$: An employees gender is dependent upon whether or not they work in sales or marketing. "
   ]
  },
  {
   "cell_type": "code",
   "execution_count": 80,
   "id": "91cf8da0-9300-4b4b-bc8d-47e83c2e891f",
   "metadata": {},
   "outputs": [
    {
     "name": "stdout",
     "output_type": "stream",
     "text": [
      "Observed\n",
      "\n",
      "[[ 6429 16698]\n",
      " [ 9823 25302]]\n",
      "---\n",
      "Expected\n",
      "\n",
      "[[ 6452.3 16674.7]\n",
      " [ 9799.7 25325.3]]\n",
      "---\n",
      "\n",
      "chi^2 = 0.1855\n",
      "p     = 0.6667\n",
      "\n",
      "Fail to Reject H0\n"
     ]
    }
   ],
   "source": [
    "chi2_test(current_emp_by_dept.gender, current_emp_by_dept.dept_name, alpha = 0.05)"
   ]
  },
  {
   "cell_type": "code",
   "execution_count": null,
   "id": "a34f6a20-09c6-40a3-8f55-c4b65d273982",
   "metadata": {},
   "outputs": [],
   "source": [
    "current_emp_spec_depts = df[(df.dept_name == 'Sales') | (df.dept_name == 'Marketing')]"
   ]
  },
  {
   "cell_type": "markdown",
   "id": "f9632565-38cc-49b4-98c0-a9114b74f791",
   "metadata": {},
   "source": [
    "3b.) Is an employee's gender independent of whether or not they are or have been a manager?"
   ]
  },
  {
   "cell_type": "code",
   "execution_count": 86,
   "id": "f93e022d-2f87-4720-af49-fc34cb1032d9",
   "metadata": {},
   "outputs": [
    {
     "name": "stdout",
     "output_type": "stream",
     "text": [
      " Sum of NA = gender                 0\n",
      "manager_status    300000\n",
      "dtype: int64\n",
      "<class 'pandas.core.frame.DataFrame'>\n",
      "RangeIndex: 300024 entries, 0 to 300023\n",
      "Data columns (total 2 columns):\n",
      " #   Column          Non-Null Count   Dtype \n",
      "---  ------          --------------   ----- \n",
      " 0   gender          300024 non-null  object\n",
      " 1   manager_status  24 non-null      object\n",
      "dtypes: object(2)\n",
      "memory usage: 4.6+ MB\n",
      "None\n",
      "        gender manager_status\n",
      "count   300024             24\n",
      "unique       2              9\n",
      "top          M           d004\n",
      "freq    179973              4\n",
      "  gender manager_status\n",
      "0      M           None\n",
      "1      F           None\n",
      "2      M           None\n",
      "3      M           None\n",
      "4      M           None\n",
      "End\n"
     ]
    }
   ],
   "source": [
    "query = '''\n",
    "SELECT e.gender, dm.dept_no AS manager_status\n",
    "FROM employees e\n",
    "LEFT JOIN dept_manager dm ON dm.emp_no = e.emp_no\n",
    "'''\n",
    "emp_manager_gender = pd.read_sql(query, url)\n",
    "describe_data(emp_manager_gender)"
   ]
  },
  {
   "cell_type": "code",
   "execution_count": 96,
   "id": "ad8b65a1-9838-4e18-8467-2c06111cdfe7",
   "metadata": {},
   "outputs": [
    {
     "data": {
      "text/plain": [
       "0    300000\n",
       "1        24\n",
       "Name: manager_status, dtype: int64"
      ]
     },
     "execution_count": 96,
     "metadata": {},
     "output_type": "execute_result"
    }
   ],
   "source": [
    "# 300_000 N/As. All those who are not managers. Let's fill these in. \n",
    "emp_manager_gender.fillna(0, inplace=True)\n",
    "emp_manager_gender.isna().sum()\n",
    "# Fixed. \n",
    "emp_manager_gender['manager_status'] = emp_manager_gender.manager_status.apply(lambda x: x if x==0 else 1)\n",
    "emp_manager_gender.manager_status.value_counts()"
   ]
  },
  {
   "cell_type": "code",
   "execution_count": 97,
   "id": "c43892d5-04c0-4262-b988-61c6ac716092",
   "metadata": {},
   "outputs": [
    {
     "name": "stdout",
     "output_type": "stream",
     "text": [
      "Observed\n",
      "\n",
      "[[120038 179962]\n",
      " [    13     11]]\n",
      "---\n",
      "Expected\n",
      "\n",
      "[[1.200414e+05 1.799586e+05]\n",
      " [9.600000e+00 1.440000e+01]]\n",
      "---\n",
      "\n",
      "chi^2 = 1.4567\n",
      "p     = 0.2275\n",
      "\n",
      "Fail to Reject H0\n"
     ]
    }
   ],
   "source": [
    "chi2_test(emp_manager_gender.manager_status, emp_manager_gender.gender, alpha = 0.05)"
   ]
  },
  {
   "cell_type": "code",
   "execution_count": null,
   "id": "6c08ea5c-b57e-4370-aa43-d65a31558c1f",
   "metadata": {},
   "outputs": [],
   "source": []
  }
 ],
 "metadata": {
  "kernelspec": {
   "display_name": "Python 3 (ipykernel)",
   "language": "python",
   "name": "python3"
  },
  "language_info": {
   "codemirror_mode": {
    "name": "ipython",
    "version": 3
   },
   "file_extension": ".py",
   "mimetype": "text/x-python",
   "name": "python",
   "nbconvert_exporter": "python",
   "pygments_lexer": "ipython3",
   "version": "3.9.7"
  }
 },
 "nbformat": 4,
 "nbformat_minor": 5
}
