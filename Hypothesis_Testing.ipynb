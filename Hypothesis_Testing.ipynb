{
 "cells": [
  {
   "cell_type": "markdown",
   "id": "56d733b9",
   "metadata": {},
   "source": [
    "__Ace Realty__ wants to determine whether the average time it takes to sell homes is different for its two offices.    \n",
    "- A sample of 40 sales from office #1 revealed:\n",
    "  - a mean of 90 days,\n",
    "  - a standard deviation of 15 days.    \n",
    " ***\n",
    "- A sample of 50 sales from office #2 revealed:\n",
    "  - a mean of 100 days,\n",
    "  - a standard deviation of 20 days.  \n",
    "***\n",
    "Use a .05 level of significance."
   ]
  },
  {
   "cell_type": "code",
   "execution_count": null,
   "id": "1d9a9518",
   "metadata": {},
   "outputs": [],
   "source": []
  },
  {
   "cell_type": "markdown",
   "id": "a5d07a8e",
   "metadata": {},
   "source": [
    "Load the __mpg dataset__ and use it to answer the following questions:\n",
    "\n",
    "- Is there a difference in fuel-efficiency in cars from 2008 vs 1999?    \n",
    "***\n",
    "- Are compact cars more fuel-efficient than the average car?\n",
    "***\n",
    "- Do manual cars get better gas mileage than automatic cars?"
   ]
  }
 ],
 "metadata": {
  "kernelspec": {
   "display_name": "Python 3 (ipykernel)",
   "language": "python",
   "name": "python3"
  },
  "language_info": {
   "codemirror_mode": {
    "name": "ipython",
    "version": 3
   },
   "file_extension": ".py",
   "mimetype": "text/x-python",
   "name": "python",
   "nbconvert_exporter": "python",
   "pygments_lexer": "ipython3",
   "version": "3.9.7"
  }
 },
 "nbformat": 4,
 "nbformat_minor": 5
}
