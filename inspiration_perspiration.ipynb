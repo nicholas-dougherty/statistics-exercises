{
 "cells": [
  {
   "cell_type": "markdown",
   "id": "c6f1fea1",
   "metadata": {},
   "source": [
    "# T-Test"
   ]
  },
  {
   "cell_type": "markdown",
   "id": "56d733b9",
   "metadata": {},
   "source": [
    "__Ace Realty__ wants to determine whether the average time it takes to sell homes is different for its two offices.    \n",
    "- A sample of 40 sales from office #1 revealed:\n",
    "  - a mean of 90 days,\n",
    "  - a standard deviation of 15 days.    \n",
    " ***\n",
    "- A sample of 50 sales from office #2 revealed:\n",
    "  - a mean of 100 days,\n",
    "  - a standard deviation of 20 days.  \n",
    "***\n",
    "Use a .05 level of significance."
   ]
  },
  {
   "cell_type": "code",
   "execution_count": 3,
   "id": "1d9a9518",
   "metadata": {},
   "outputs": [],
   "source": [
    "import matplotlib.pyplot as plt\n",
    "\n",
    "import numpy as np\n",
    "import pandas as pd\n",
    "\n",
    "from scipy import stats\n",
    "import pydataset\n",
    "\n",
    "import env"
   ]
  },
  {
   "cell_type": "code",
   "execution_count": null,
   "id": "c297595d",
   "metadata": {},
   "outputs": [],
   "source": [
    "n1 = 40\n",
    "x̅_office_1 = 90\n",
    "s1 = 15\n",
    "\n",
    "n2 = 50\n",
    "x̅_office_2 = 100\n",
    "s2 = 20 # S-2 is the military intelligence section, from which I reign. \n",
    "\n",
    "t, p = stats.ttest_ind_from_stats(xbar1, s1, n1, xbar2, s2, n2)\n",
    "\n",
    "one_tailed_p = p / 2\n",
    "one_tailed_p"
   ]
  },
  {
   "cell_type": "code",
   "execution_count": null,
   "id": "5f157684",
   "metadata": {},
   "outputs": [],
   "source": [
    "degf = n1 + n2 - 2\n",
    "\n",
    "dist = stats.t(degf)\n",
    "\n",
    "x = np.linspace(-3.5, 3.5)\n",
    "y = dist.pdf(x)\n",
    "\n",
    "plt.figure(figsize=(12, 9))\n",
    "plt.plot(x, y)\n",
    "plt.vlines([-2, 2], 0, .3)"
   ]
  },
  {
   "cell_type": "code",
   "execution_count": null,
   "id": "1e42b39d",
   "metadata": {},
   "outputs": [],
   "source": [
    "x = np.arange(50,150)\n",
    "\n",
    "y1 = stats.norm(90,15).pdf(x)\n",
    "y2 = stats.norm(100,20).pdf(x)\n",
    "\n",
    "\n",
    "plt.plot(x, y1, label = 'office 1')\n",
    "plt.plot(x, y2, label = 'office 2')\n",
    "plt.axvline(90, ls = ':')\n",
    "plt.axvline(100, ls = ':', color = 'orange')\n",
    "\n",
    "plt.legend()"
   ]
  },
  {
   "cell_type": "code",
   "execution_count": null,
   "id": "fb118c3f",
   "metadata": {},
   "outputs": [],
   "source": [
    "#Using Scipy \n",
    "α = 0.05\n",
    "\n",
    "t, p = stats.ttest_ind_from_stats(90,15,40,100,20,50, equal_var= False)\n",
    "t,p"
   ]
  },
  {
   "cell_type": "code",
   "execution_count": null,
   "id": "35859998",
   "metadata": {},
   "outputs": [],
   "source": [
    "print(f'''\n",
    "t = {t:.04f}\n",
    "p = {p:.04f}\n",
    "\n",
    "Because p ({one_tailed_p:.4f}) < alpha (.05), we reject the null hypothesis that\n",
    "the average home sale time is the same for office 1 and office 2.\n",
    "'''.strip())"
   ]
  },
  {
   "cell_type": "markdown",
   "id": "4276cb3a",
   "metadata": {},
   "source": [
    "# MPG DATASET"
   ]
  },
  {
   "cell_type": "markdown",
   "id": "a5d07a8e",
   "metadata": {},
   "source": [
    "Load the __mpg dataset__ and use it to answer the following questions:\n",
    "\n",
    "- Is there a difference in fuel-efficiency in cars from 2008 vs 1999?    \n",
    "***\n",
    "- Are compact cars more fuel-efficient than the average car?\n",
    "***\n",
    "- Do manual cars get better gas mileage than automatic cars?"
   ]
  },
  {
   "cell_type": "code",
   "execution_count": 4,
   "id": "09d6c069",
   "metadata": {},
   "outputs": [],
   "source": [
    "mpg = pydataset.data('mpg')\n"
   ]
  },
  {
   "cell_type": "markdown",
   "id": "67996810",
   "metadata": {},
   "source": [
    "### _Is there a difference in fuel-efficiency in cars from 2008 vs 1999?_"
   ]
  },
  {
   "cell_type": "code",
   "execution_count": 5,
   "id": "4ee9cf79",
   "metadata": {},
   "outputs": [
    {
     "data": {
      "text/html": [
       "<div>\n",
       "<style scoped>\n",
       "    .dataframe tbody tr th:only-of-type {\n",
       "        vertical-align: middle;\n",
       "    }\n",
       "\n",
       "    .dataframe tbody tr th {\n",
       "        vertical-align: top;\n",
       "    }\n",
       "\n",
       "    .dataframe thead th {\n",
       "        text-align: right;\n",
       "    }\n",
       "</style>\n",
       "<table border=\"1\" class=\"dataframe\">\n",
       "  <thead>\n",
       "    <tr style=\"text-align: right;\">\n",
       "      <th></th>\n",
       "      <th>manufacturer</th>\n",
       "      <th>model</th>\n",
       "      <th>displ</th>\n",
       "      <th>year</th>\n",
       "      <th>cyl</th>\n",
       "      <th>trans</th>\n",
       "      <th>drv</th>\n",
       "      <th>cty</th>\n",
       "      <th>hwy</th>\n",
       "      <th>fl</th>\n",
       "      <th>class</th>\n",
       "      <th>avg_fe</th>\n",
       "    </tr>\n",
       "  </thead>\n",
       "  <tbody>\n",
       "    <tr>\n",
       "      <th>1</th>\n",
       "      <td>audi</td>\n",
       "      <td>a4</td>\n",
       "      <td>1.8</td>\n",
       "      <td>1999</td>\n",
       "      <td>4</td>\n",
       "      <td>auto(l5)</td>\n",
       "      <td>f</td>\n",
       "      <td>18</td>\n",
       "      <td>29</td>\n",
       "      <td>p</td>\n",
       "      <td>compact</td>\n",
       "      <td>22.212766</td>\n",
       "    </tr>\n",
       "    <tr>\n",
       "      <th>2</th>\n",
       "      <td>audi</td>\n",
       "      <td>a4</td>\n",
       "      <td>1.8</td>\n",
       "      <td>1999</td>\n",
       "      <td>4</td>\n",
       "      <td>manual(m5)</td>\n",
       "      <td>f</td>\n",
       "      <td>21</td>\n",
       "      <td>29</td>\n",
       "      <td>p</td>\n",
       "      <td>compact</td>\n",
       "      <td>24.360000</td>\n",
       "    </tr>\n",
       "    <tr>\n",
       "      <th>3</th>\n",
       "      <td>audi</td>\n",
       "      <td>a4</td>\n",
       "      <td>2.0</td>\n",
       "      <td>2008</td>\n",
       "      <td>4</td>\n",
       "      <td>manual(m6)</td>\n",
       "      <td>f</td>\n",
       "      <td>20</td>\n",
       "      <td>31</td>\n",
       "      <td>p</td>\n",
       "      <td>compact</td>\n",
       "      <td>24.313725</td>\n",
       "    </tr>\n",
       "    <tr>\n",
       "      <th>4</th>\n",
       "      <td>audi</td>\n",
       "      <td>a4</td>\n",
       "      <td>2.0</td>\n",
       "      <td>2008</td>\n",
       "      <td>4</td>\n",
       "      <td>auto(av)</td>\n",
       "      <td>f</td>\n",
       "      <td>21</td>\n",
       "      <td>30</td>\n",
       "      <td>p</td>\n",
       "      <td>compact</td>\n",
       "      <td>24.705882</td>\n",
       "    </tr>\n",
       "    <tr>\n",
       "      <th>5</th>\n",
       "      <td>audi</td>\n",
       "      <td>a4</td>\n",
       "      <td>2.8</td>\n",
       "      <td>1999</td>\n",
       "      <td>6</td>\n",
       "      <td>auto(l5)</td>\n",
       "      <td>f</td>\n",
       "      <td>16</td>\n",
       "      <td>26</td>\n",
       "      <td>p</td>\n",
       "      <td>compact</td>\n",
       "      <td>19.809524</td>\n",
       "    </tr>\n",
       "  </tbody>\n",
       "</table>\n",
       "</div>"
      ],
      "text/plain": [
       "  manufacturer model  displ  year  cyl       trans drv  cty  hwy fl    class  \\\n",
       "1         audi    a4    1.8  1999    4    auto(l5)   f   18   29  p  compact   \n",
       "2         audi    a4    1.8  1999    4  manual(m5)   f   21   29  p  compact   \n",
       "3         audi    a4    2.0  2008    4  manual(m6)   f   20   31  p  compact   \n",
       "4         audi    a4    2.0  2008    4    auto(av)   f   21   30  p  compact   \n",
       "5         audi    a4    2.8  1999    6    auto(l5)   f   16   26  p  compact   \n",
       "\n",
       "      avg_fe  \n",
       "1  22.212766  \n",
       "2  24.360000  \n",
       "3  24.313725  \n",
       "4  24.705882  \n",
       "5  19.809524  "
      ]
     },
     "execution_count": 5,
     "metadata": {},
     "output_type": "execute_result"
    }
   ],
   "source": [
    "mpg['avg_fe'] = stats.hmean(mpg[['cty', 'hwy']], axis =1)\n",
    "mpg.head()"
   ]
  },
  {
   "cell_type": "code",
   "execution_count": 9,
   "id": "465f3e11",
   "metadata": {},
   "outputs": [],
   "source": [
    "fe_2008 = mpg[mpg.year == 2008].avg_fe\n",
    "fe_1999 = mpg[mpg.year == 1999].avg_fe\n"
   ]
  },
  {
   "cell_type": "code",
   "execution_count": null,
   "id": "5fb2860b",
   "metadata": {},
   "outputs": [],
   "source": [
    "# plot distribution for fe_2008\n",
    "fe_2008.hist()"
   ]
  },
  {
   "cell_type": "code",
   "execution_count": null,
   "id": "4e92553e",
   "metadata": {},
   "outputs": [],
   "source": [
    "# plot distribution for fe_2008\n",
    "fe_1999.hist()"
   ]
  },
  {
   "cell_type": "code",
   "execution_count": null,
   "id": "1a6bec17",
   "metadata": {},
   "outputs": [],
   "source": [
    "# how many observations I have for each sample? (N>30,we we meet normality condition)\n",
    "\n",
    "fe_2008.count(), fe_1999.count()"
   ]
  },
  {
   "cell_type": "code",
   "execution_count": null,
   "id": "f0f3dac9",
   "metadata": {},
   "outputs": [],
   "source": [
    "# is the variance same for both sample? Yes\n",
    "\n",
    "fe_2008.var(), fe_1999.var()"
   ]
  },
  {
   "cell_type": "code",
   "execution_count": null,
   "id": "f2a59762",
   "metadata": {},
   "outputs": [],
   "source": [
    "# # stats Levene test - returns p value. small p-value means unequal variances\n",
    "# stats.levene(fe_2008, fe_1999)\n",
    "\n",
    "# calculate t-statistic and p value\n",
    "\n",
    "t, p = stats.ttest_ind(fe_2008, fe_1999)\n",
    "t, p"
   ]
  },
  {
   "cell_type": "code",
   "execution_count": null,
   "id": "6b0e423e",
   "metadata": {},
   "outputs": [],
   "source": [
    "print(f'''\n",
    "Because p ({p:.3f}) > alpha (.05), we fail to reject the null\\\n",
    " hypothesis that there is no difference in fuel-efficency in cars\\\n",
    " from 2008 and 1999.\n",
    "''')"
   ]
  },
  {
   "cell_type": "code",
   "execution_count": null,
   "id": "d4b8d57e",
   "metadata": {},
   "outputs": [],
   "source": [
    "fe_2008.mean(), fe_1999.mean()"
   ]
  },
  {
   "cell_type": "code",
   "execution_count": null,
   "id": "18d0c479",
   "metadata": {},
   "outputs": [],
   "source": [
    "plt.hist([fe_1999, fe_2008], label=[\"1999 cars\", \"2008 cars\"])\n",
    "plt.legend(loc=\"upper right\")"
   ]
  },
  {
   "cell_type": "code",
   "execution_count": null,
   "id": "8b8f251d",
   "metadata": {},
   "outputs": [],
   "source": [
    "# The above was from florence. \n",
    "# below darden "
   ]
  },
  {
   "cell_type": "code",
   "execution_count": null,
   "id": "bd9a6bbe",
   "metadata": {},
   "outputs": [],
   "source": [
    "x1 = mpg[mpg.year == 1999].hwy\n",
    "x2 = mpg[mpg.year == 2008].hwy\n",
    "\n",
    "x1.var(), x2.var()"
   ]
  },
  {
   "cell_type": "code",
   "execution_count": null,
   "id": "8181963d",
   "metadata": {},
   "outputs": [],
   "source": [
    "t, p = stats.ttest_ind(x1, x2)\n",
    "p"
   ]
  },
  {
   "cell_type": "code",
   "execution_count": null,
   "id": "1dacd4ac",
   "metadata": {},
   "outputs": [],
   "source": [
    "print(f'''\n",
    "Because p ({p:.3f}) > alpha (.05), we fail to reject the null hypothesis that there\n",
    "is no difference in fuel-efficency in cars from 2008 and 1999.\n",
    "''')"
   ]
  },
  {
   "cell_type": "markdown",
   "id": "054c8f18",
   "metadata": {},
   "source": [
    "### _Are compact cars more fuel-efficient than the average car?_"
   ]
  },
  {
   "cell_type": "code",
   "execution_count": null,
   "id": "705de91c",
   "metadata": {},
   "outputs": [],
   "source": [
    "x = mpg[mpg['class'] == 'compact'].hwy\n",
    "mu = mpg.hwy.mean()\n",
    "\n",
    "t, p = stats.ttest_1samp(x, mu)\n",
    "print('t=', t)\n",
    "print('p=', p)"
   ]
  },
  {
   "cell_type": "code",
   "execution_count": null,
   "id": "7a451b6c",
   "metadata": {},
   "outputs": [],
   "source": [
    "print(f'''\n",
    "Because p ({p:.12f}) < alpha (.05), we reject the null hypothesis that there is\n",
    "no difference in fuel-efficiency between compact cars and the overall average.\n",
    "''')"
   ]
  },
  {
   "cell_type": "code",
   "execution_count": null,
   "id": "1a8855ce",
   "metadata": {},
   "outputs": [],
   "source": [
    "print(f'''\n",
    "Avg mileage for compact cars: {x.mean():.2f}\n",
    "Overall average mileage:      {mu:.2f}\n",
    "''')"
   ]
  },
  {
   "cell_type": "markdown",
   "id": "247e1450",
   "metadata": {},
   "source": [
    "### _Do manual cars get better gas milage than automatic cars?_"
   ]
  },
  {
   "cell_type": "code",
   "execution_count": 10,
   "id": "cba0dce6",
   "metadata": {},
   "outputs": [
    {
     "data": {
      "text/plain": [
       "(31.61873264739507, 35.54272043745727)"
      ]
     },
     "execution_count": 10,
     "metadata": {},
     "output_type": "execute_result"
    }
   ],
   "source": [
    "is_automatic_transmission = mpg.trans.str.startswith('auto')\n",
    "\n",
    "x1 = mpg[is_automatic_transmission].hwy\n",
    "x2 = mpg[~ is_automatic_transmission].hwy\n",
    "\n",
    "x1.var(), x2.var()"
   ]
  },
  {
   "cell_type": "code",
   "execution_count": 11,
   "id": "ca294d4d",
   "metadata": {},
   "outputs": [
    {
     "name": "stdout",
     "output_type": "stream",
     "text": [
      "t= 4.368349972819688\n",
      "p= 1.888044765552951e-05\n"
     ]
    }
   ],
   "source": [
    "t, p = stats.ttest_ind(x2, x1)\n",
    "print('t=', t)\n",
    "print('p=', p)"
   ]
  },
  {
   "cell_type": "code",
   "execution_count": 12,
   "id": "228e3237",
   "metadata": {},
   "outputs": [
    {
     "name": "stdout",
     "output_type": "stream",
     "text": [
      "\n",
      "Becuase p (0.00002) < alpha (.05), we reject the null hypothesis that there\n",
      "is no difference in gas mileage between manual and automatic cars.\n",
      "\n"
     ]
    }
   ],
   "source": [
    "print(f'''\n",
    "Becuase p ({p:.5f}) < alpha (.05), we reject the null hypothesis that there\n",
    "is no difference in gas mileage between manual and automatic cars.\n",
    "''')"
   ]
  },
  {
   "cell_type": "code",
   "execution_count": null,
   "id": "277204b7",
   "metadata": {},
   "outputs": [],
   "source": []
  }
 ],
 "metadata": {
  "kernelspec": {
   "display_name": "Python 3 (ipykernel)",
   "language": "python",
   "name": "python3"
  },
  "language_info": {
   "codemirror_mode": {
    "name": "ipython",
    "version": 3
   },
   "file_extension": ".py",
   "mimetype": "text/x-python",
   "name": "python",
   "nbconvert_exporter": "python",
   "pygments_lexer": "ipython3",
   "version": "3.9.7"
  }
 },
 "nbformat": 4,
 "nbformat_minor": 5
}
